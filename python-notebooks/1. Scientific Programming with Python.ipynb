{
 "cells": [
  {
   "cell_type": "markdown",
   "metadata": {},
   "source": [
    "<img src=\"images/readr.svg\" alt=\"Logo\" style=\"width: 200px;\"/>\n",
    "![title](images/title.png)"
   ]
  },
  {
   "cell_type": "markdown",
   "metadata": {},
   "source": [
    "# Pre-reading: Scientific Programming with Python\n",
    "\n",
    "Welcome to the pre-reading for the *Introduction to Numerical Computing* course; this Notebook will be give you a taste for how the rest of the course will be structured, and help you get familiar with Python and the Jupyter notebook environment.\n",
    "\n",
    "This notebook is mostly designed for those new to Python; if that's you, have a go working your way through it, and feel free to play around with the code examples. The output cells have deliberately been left blank; you need to manually evaluate Python cells to view the output. Change things, move things around - that's the best way to understand the code you see!\n",
    "\n",
    "**If you're already familiar with Python and NumPy, this notebook is not compulsory**. Feel free to skim it, use it as a quick refresher, or ignore it altogether. "
   ]
  },
  {
   "cell_type": "markdown",
   "metadata": {
    "toc": true
   },
   "source": [
    "<h1>Table of Contents<span class=\"tocSkip\"></span></h1>\n",
    "<div class=\"toc\" style=\"margin-top: 1em;\"><ul class=\"toc-item\"><li><span><a href=\"#Pre-reading:-Scientific-Programming-with-Python\" data-toc-modified-id=\"Pre-reading:-Scientific-Programming-with-Python-1\"><span class=\"toc-item-num\">1&nbsp;&nbsp;</span>Pre-reading: Scientific Programming with Python</a></span><ul class=\"toc-item\"><li><span><a href=\"#Welcome-to-Jupyter\" data-toc-modified-id=\"Welcome-to-Jupyter-1.1\"><span class=\"toc-item-num\">1.1&nbsp;&nbsp;</span>Welcome to Jupyter</a></span><ul class=\"toc-item\"><li><span><a href=\"#Markdown-cells\" data-toc-modified-id=\"Markdown-cells-1.1.1\"><span class=\"toc-item-num\">1.1.1&nbsp;&nbsp;</span>Markdown cells</a></span></li></ul></li><li><span><a href=\"#Python-Basics\" data-toc-modified-id=\"Python-Basics-1.2\"><span class=\"toc-item-num\">1.2&nbsp;&nbsp;</span>Python Basics</a></span><ul class=\"toc-item\"><li><span><a href=\"#Ground-rules\" data-toc-modified-id=\"Ground-rules-1.2.1\"><span class=\"toc-item-num\">1.2.1&nbsp;&nbsp;</span>Ground rules</a></span></li><li><span><a href=\"#Variables\" data-toc-modified-id=\"Variables-1.2.2\"><span class=\"toc-item-num\">1.2.2&nbsp;&nbsp;</span>Variables</a></span></li><li><span><a href=\"#Operators\" data-toc-modified-id=\"Operators-1.2.3\"><span class=\"toc-item-num\">1.2.3&nbsp;&nbsp;</span>Operators</a></span></li></ul></li><li><span><a href=\"#If-statements\" data-toc-modified-id=\"If-statements-1.3\"><span class=\"toc-item-num\">1.3&nbsp;&nbsp;</span>If statements</a></span></li><li><span><a href=\"#Data-structures\" data-toc-modified-id=\"Data-structures-1.4\"><span class=\"toc-item-num\">1.4&nbsp;&nbsp;</span>Data structures</a></span><ul class=\"toc-item\"><li><span><a href=\"#Tuples\" data-toc-modified-id=\"Tuples-1.4.1\"><span class=\"toc-item-num\">1.4.1&nbsp;&nbsp;</span>Tuples</a></span></li><li><span><a href=\"#Lists\" data-toc-modified-id=\"Lists-1.4.2\"><span class=\"toc-item-num\">1.4.2&nbsp;&nbsp;</span>Lists</a></span></li><li><span><a href=\"#Operators-and-Intrinsic-functions\" data-toc-modified-id=\"Operators-and-Intrinsic-functions-1.4.3\"><span class=\"toc-item-num\">1.4.3&nbsp;&nbsp;</span>Operators and Intrinsic functions</a></span></li><li><span><a href=\"#Indexing-and-slicing\" data-toc-modified-id=\"Indexing-and-slicing-1.4.4\"><span class=\"toc-item-num\">1.4.4&nbsp;&nbsp;</span>Indexing and slicing</a></span></li><li><span><a href=\"#Modifying-data-structures\" data-toc-modified-id=\"Modifying-data-structures-1.4.5\"><span class=\"toc-item-num\">1.4.5&nbsp;&nbsp;</span>Modifying data structures</a></span></li><li><span><a href=\"#Tuples-vs.-Lists\" data-toc-modified-id=\"Tuples-vs.-Lists-1.4.6\"><span class=\"toc-item-num\">1.4.6&nbsp;&nbsp;</span>Tuples vs. Lists</a></span></li></ul></li><li><span><a href=\"#Loops\" data-toc-modified-id=\"Loops-1.5\"><span class=\"toc-item-num\">1.5&nbsp;&nbsp;</span>Loops</a></span><ul class=\"toc-item\"><li><span><a href=\"#While-loops\" data-toc-modified-id=\"While-loops-1.5.1\"><span class=\"toc-item-num\">1.5.1&nbsp;&nbsp;</span>While loops</a></span></li><li><span><a href=\"#For-loops\" data-toc-modified-id=\"For-loops-1.5.2\"><span class=\"toc-item-num\">1.5.2&nbsp;&nbsp;</span>For loops</a></span></li><li><span><a href=\"#Flow-control-statements\" data-toc-modified-id=\"Flow-control-statements-1.5.3\"><span class=\"toc-item-num\">1.5.3&nbsp;&nbsp;</span>Flow control statements</a></span></li><li><span><a href=\"#List-comprehension\" data-toc-modified-id=\"List-comprehension-1.5.4\"><span class=\"toc-item-num\">1.5.4&nbsp;&nbsp;</span>List comprehension</a></span></li><li><span><a href=\"#Iterable-functions\" data-toc-modified-id=\"Iterable-functions-1.5.5\"><span class=\"toc-item-num\">1.5.5&nbsp;&nbsp;</span>Iterable functions</a></span></li></ul></li><li><span><a href=\"#Functions\" data-toc-modified-id=\"Functions-1.6\"><span class=\"toc-item-num\">1.6&nbsp;&nbsp;</span>Functions</a></span><ul class=\"toc-item\"><li><span><a href=\"#Local-and-global-scope\" data-toc-modified-id=\"Local-and-global-scope-1.6.1\"><span class=\"toc-item-num\">1.6.1&nbsp;&nbsp;</span>Local and global scope</a></span></li><li><span><a href=\"#Default-arguments\" data-toc-modified-id=\"Default-arguments-1.6.2\"><span class=\"toc-item-num\">1.6.2&nbsp;&nbsp;</span>Default arguments</a></span></li><li><span><a href=\"#Keyword-Arguments\" data-toc-modified-id=\"Keyword-Arguments-1.6.3\"><span class=\"toc-item-num\">1.6.3&nbsp;&nbsp;</span>Keyword Arguments</a></span></li><li><span><a href=\"#Variable-number-of-arguments\" data-toc-modified-id=\"Variable-number-of-arguments-1.6.4\"><span class=\"toc-item-num\">1.6.4&nbsp;&nbsp;</span>Variable number of arguments</a></span></li></ul></li><li><span><a href=\"#NumPy\" data-toc-modified-id=\"NumPy-1.7\"><span class=\"toc-item-num\">1.7&nbsp;&nbsp;</span>NumPy</a></span><ul class=\"toc-item\"><li><span><a href=\"#NumPy-math-functions\" data-toc-modified-id=\"NumPy-math-functions-1.7.1\"><span class=\"toc-item-num\">1.7.1&nbsp;&nbsp;</span>NumPy math functions</a></span></li><li><span><a href=\"#Common/basic-functions-you-might-need\" data-toc-modified-id=\"Common/basic-functions-you-might-need-1.7.2\"><span class=\"toc-item-num\">1.7.2&nbsp;&nbsp;</span>Common/basic functions you might need</a></span></li><li><span><a href=\"#NumPy-arrays\" data-toc-modified-id=\"NumPy-arrays-1.7.3\"><span class=\"toc-item-num\">1.7.3&nbsp;&nbsp;</span>NumPy arrays</a></span></li></ul></li><li><span><a href=\"#Timing-your-code\" data-toc-modified-id=\"Timing-your-code-1.8\"><span class=\"toc-item-num\">1.8&nbsp;&nbsp;</span>Timing your code</a></span></li><li><span><a href=\"#Plotting-with-matplotlib\" data-toc-modified-id=\"Plotting-with-matplotlib-1.9\"><span class=\"toc-item-num\">1.9&nbsp;&nbsp;</span>Plotting with matplotlib</a></span></li><li><span><a href=\"#Exercises\" data-toc-modified-id=\"Exercises-1.10\"><span class=\"toc-item-num\">1.10&nbsp;&nbsp;</span>Exercises</a></span></li></ul></li></ul></div>"
   ]
  },
  {
   "cell_type": "markdown",
   "metadata": {},
   "source": [
    "## Welcome to Jupyter"
   ]
  },
  {
   "cell_type": "markdown",
   "metadata": {},
   "source": [
    "Welcome to Jupyter, your interactive Python programming environment! In Jupyter, you can mix Python code, markdown text formatting, and math using $\\LaTeX$ like commands. To switch the cell type, simply click in the cell, and use the dropdown menu in the toolbar above to choose what type of cell you would like:\n",
    "![cell](images/cell.png)"
   ]
  },
  {
   "cell_type": "markdown",
   "metadata": {},
   "source": [
    "To get an interactive tour of this Notebook, click `Help` in the menu bar above, and choose `User Interface Tour`:\n",
    "![help](images/help.png)\n",
    "\n",
    "The help menu also includes some useful links to help files for Jupyter notebook, Python, NumPy, and other software libraries."
   ]
  },
  {
   "cell_type": "markdown",
   "metadata": {
    "collapsed": true
   },
   "source": [
    "### Markdown cells\n",
    "These are used to add rich text to your Jupyter notebook.\n",
    "\n",
    "* In markdown mode, you can use \\#, \\##, \\###, and \\#### at the beginning of the line to add **headings**\n",
    "\n",
    "\n",
    "* Anything between asterisk's, \\*like this\\*, will be displayed in *italics*\n",
    "\n",
    "\n",
    "* Anything between two asterisk's, \\*\\*like this\\*\\*, will be displayed in **bold**\n",
    "\n",
    "\n",
    "* And three asterisk's, \\*\\*\\*like this\\*\\*\\*, will be displayed as ***bold AND italics***\n",
    "\n",
    "\n",
    "* Latex equations can be entered between dollar signs: entering \\$\\int_0^x x^2~dx\\$ will give $\\int_0^x x^2~dx$.\n",
    "\n",
    "\n",
    "* Lists are also supported, either using bullet points by starting the line with \\*\n",
    "\n",
    "\n",
    "1. Or using numbered lists, by starting each line with a number and a period (1.)\n",
    "\n",
    "Once you have finished editing your cell, simply press `shift+enter` on your keyboard to evaluate the cell.\n",
    "\n",
    "To edit the markdown cell again, double click on it!\n",
    "\n",
    "Change the cell below to a markdown cell, and have a go entering and evaluating some markdown and math equations."
   ]
  },
  {
   "cell_type": "code",
   "execution_count": null,
   "metadata": {
    "collapsed": true
   },
   "outputs": [],
   "source": []
  },
  {
   "cell_type": "markdown",
   "metadata": {},
   "source": [
    "## Python Basics\n",
    "\n",
    "By default, new cells are `code` cells; these are used to write Python code, and are evaluated when you press `shift+enter`. A simply Python program has been written in the cell below, that simply prints 'Hello, world!'. Test it out by evaluating it."
   ]
  },
  {
   "cell_type": "code",
   "execution_count": 1,
   "metadata": {
    "collapsed": false
   },
   "outputs": [
    {
     "name": "stdout",
     "output_type": "stream",
     "text": [
      "Hello, world!\n"
     ]
    }
   ],
   "source": [
    "print('Hello, world!')"
   ]
  },
  {
   "cell_type": "markdown",
   "metadata": {},
   "source": [
    "Pretty simple, right? Here, we are calling the Python `print()` function, which allows us to output strings to the notebook. Don't worry, our Python programs will get more complicated soon! However, before we delve right in , we need to go over a few ground rules of Python.\n",
    "\n",
    "### Ground rules\n",
    "\n",
    "* **Python is case-sensitive**. Try changing the above cell to read:\n",
    "    ```python\n",
    "    Print('Hello, world!')\n",
    "    ```\n",
    "    What happens? The error message occurs because Python doesn't recognise the function `Print()` with a capital letter. Make sure when writing Python code that your case is consistent and correct.\n",
    "    \n",
    "    \n",
    "* **Python uses indents to structure code-block**\n",
    "    What do we mean by this? Well, consider a program that checks if a variable `x` is less than 12; if it is, it sets a variable `y` to `'am'`. Using the programming language C, this program might look like this:\n",
    "    ```c\n",
    "    if (x<12) {\n",
    "        y = \"am\";\n",
    "    }\n",
    "    ```\n",
    "    C knows where the `if` code-block begins and ends from the presence of curly brackets, `{` and `}`. If we wanted, we could write this C code on one line, and it wouldn't make any difference:\n",
    "    ```c\n",
    "    if (x<12) {y = \"am\";}\n",
    "    ```\n",
    "    \n",
    "    However, Python doesn't use curly brackets --- it uses **whitespace** (**tabs** or **spaces**). Instead of braces, Python indicates the start of a code block with a colon :, with the remainder of the code block indented by using either tabs or spaces. The code block ends when the indentation reverts back to the previous indentation. So, in Python, whitespace at the beginning of lines is important and can affect the code. As a result, when copying Python code from this textbook, always make sure to copy the whitespace as-is.\n",
    "    \n",
    "    For example, in Python, the above example would look like this:\n",
    "    ```python\n",
    "    if x < 12:\n",
    "        y = \"am\"\n",
    "    ```\n",
    "    Note the indentation of the line `y = \"am\"`. \n",
    "    \n",
    "    The decision of whether to indent your Python code using spaces or tabs is up to you, and is a matter of style. However, it is important not to mix styles - make sure to keep to solely tabs or spaces, not both.\n",
    "    \n",
    "    *The Python style guide recommends 4 spaces for each indentation level.*\n",
    "    \n",
    "    \n",
    "* **Comments in Python are denoted using \\#**. Anything to the right of a \\# symbol will be ignored by Python. Make sure to use comments to annotate your code, so that you and others can clearly see what is happening!\n",
    "\n",
    "Now that that's out of the way, let's get back to exploring Python hands-on."
   ]
  },
  {
   "cell_type": "markdown",
   "metadata": {},
   "source": [
    "### Variables\n",
    "\n",
    "In Python, we assign variables using the equals sign `=`. \n",
    "\n",
    "You can assign multiple variables at once, all with the same value:"
   ]
  },
  {
   "cell_type": "code",
   "execution_count": 2,
   "metadata": {
    "collapsed": true
   },
   "outputs": [],
   "source": [
    "a = b = c = 2"
   ]
  },
  {
   "cell_type": "markdown",
   "metadata": {},
   "source": [
    "Or assign multiple variables at once, all with different variables:"
   ]
  },
  {
   "cell_type": "code",
   "execution_count": 3,
   "metadata": {
    "collapsed": true
   },
   "outputs": [],
   "source": [
    "a,b,c,d = 1,2.5,True,\"hi\""
   ]
  },
  {
   "cell_type": "markdown",
   "metadata": {},
   "source": [
    "---\n",
    "<div class=\"alert alert-block alert-warning\">\n",
    "\n",
    "**Example:** converting Celsius to Farenheit\n",
    "<br>\n",
    "Change the value of the variable DegC below, and then print the resulting value of DegF.\n",
    "\n",
    "</div>"
   ]
  },
  {
   "cell_type": "code",
   "execution_count": 4,
   "metadata": {
    "collapsed": false
   },
   "outputs": [],
   "source": [
    "DegC = 28\n",
    "DegF = (9./5.)*DegC + 32."
   ]
  },
  {
   "cell_type": "code",
   "execution_count": 5,
   "metadata": {
    "collapsed": false
   },
   "outputs": [
    {
     "name": "stdout",
     "output_type": "stream",
     "text": [
      "\n"
     ]
    }
   ],
   "source": [
    "print()"
   ]
  },
  {
   "cell_type": "markdown",
   "metadata": {},
   "source": [
    "---"
   ]
  },
  {
   "cell_type": "markdown",
   "metadata": {},
   "source": [
    "Python supports several different types of data types or 'literals':\n",
    "\n",
    "| Type | Description |\n",
    "|:-------:|----------------------------------------------------------------------------------------------------------|\n",
    "|   `int`   | integer, of arbitrary precision                                                                             \n",
    "|  `float`  | a (double precision) real or decimal number, containing 53 bits of precision                                          |\n",
    "| `complex` | a (double precision) complex number, written using the suffix `j` after the imaginary part: `5.432-0.432j` |\n",
    "|   `str`   | string, for example `'abcdef123'` or `\"abcdef123\"`                                                        |\n",
    "|   `bool`  | boolean, which can only take two values; `True` or `False`                                               |\n",
    "\n",
    "If you're ever unsure of the data type of a variable in Python, simply use the function `type()` to find out."
   ]
  },
  {
   "cell_type": "code",
   "execution_count": 6,
   "metadata": {
    "collapsed": false
   },
   "outputs": [
    {
     "name": "stdout",
     "output_type": "stream",
     "text": [
      "<class 'bool'> <class 'str'> <class 'int'> <class 'float'>\n"
     ]
    }
   ],
   "source": [
    "a = True\n",
    "b = \"yes\"\n",
    "c = 18\n",
    "d = 0.654\n",
    "print(type(a), type(b), type(c), type(d))"
   ]
  },
  {
   "cell_type": "markdown",
   "metadata": {},
   "source": [
    "You can convert between data types by using the functions associated with them. For example,"
   ]
  },
  {
   "cell_type": "code",
   "execution_count": 7,
   "metadata": {
    "collapsed": false
   },
   "outputs": [
    {
     "data": {
      "text/plain": [
       "'5'"
      ]
     },
     "execution_count": 7,
     "metadata": {},
     "output_type": "execute_result"
    }
   ],
   "source": [
    "str(5)"
   ]
  },
  {
   "cell_type": "code",
   "execution_count": 8,
   "metadata": {
    "collapsed": false
   },
   "outputs": [
    {
     "data": {
      "text/plain": [
       "6"
      ]
     },
     "execution_count": 8,
     "metadata": {},
     "output_type": "execute_result"
    }
   ],
   "source": [
    "int('6')"
   ]
  },
  {
   "cell_type": "code",
   "execution_count": 9,
   "metadata": {
    "collapsed": false
   },
   "outputs": [
    {
     "data": {
      "text/plain": [
       "(5+2j)"
      ]
     },
     "execution_count": 9,
     "metadata": {},
     "output_type": "execute_result"
    }
   ],
   "source": [
    "complex(5,2)"
   ]
  },
  {
   "cell_type": "code",
   "execution_count": 10,
   "metadata": {
    "collapsed": false
   },
   "outputs": [
    {
     "data": {
      "text/plain": [
       "4.0"
      ]
     },
     "execution_count": 10,
     "metadata": {},
     "output_type": "execute_result"
    }
   ],
   "source": [
    "float(4)"
   ]
  },
  {
   "cell_type": "markdown",
   "metadata": {},
   "source": [
    "### Operators\n",
    "\n",
    "Operators allow you to perform operations on various data types. Python has several main categories; arithmetic, assignment, bitwise, relational, membership, identity, and logical. We'll go through a couple here.\n",
    "\n",
    "#### Arithmetic operators\n",
    "In order from highest to lowest precedence:\n",
    "\n",
    "* **Unary operators:** minus (`-`) and plus (`+`). These operators act on a single numeric value. `+` makes no change (`+5=5`) while `-` negates it (`-5=-5`)\n",
    "\n",
    "\n",
    "* **Exponentiation:** `2**5`$=2^5=32$\n",
    "\n",
    "\n",
    "* **Multiplication:** `4*10`=40\n",
    "\n",
    "\n",
    "* **Division:** `4/10`=0.4\n",
    "\n",
    "\n",
    "* **Integer or floor division**: `5//2`=2. This divides two numeric values, and then rounds down to the nearest integer.\n",
    "\n",
    "\n",
    "* **Remainder or Modulo:** `5%2`=1. This returns the remainder after division by an integer.\n",
    "\n",
    "\n",
    "* **Addition**: `5+9`=13\n",
    "\n",
    "\n",
    "* **Subtraction**: `10-8.2`=1.8\n",
    "\n",
    "<br>\n",
    "<div class=\"alert alert-block alert-info\">\n",
    "Remember to always use brackets ( and ) so that you can make sure the order of operations is exactly how you intend!\n",
    "</div>"
   ]
  },
  {
   "cell_type": "code",
   "execution_count": 11,
   "metadata": {
    "collapsed": false
   },
   "outputs": [
    {
     "data": {
      "text/plain": [
       "734"
      ]
     },
     "execution_count": 11,
     "metadata": {},
     "output_type": "execute_result"
    }
   ],
   "source": [
    "5+9**3"
   ]
  },
  {
   "cell_type": "code",
   "execution_count": 12,
   "metadata": {
    "collapsed": false
   },
   "outputs": [
    {
     "data": {
      "text/plain": [
       "2744"
      ]
     },
     "execution_count": 12,
     "metadata": {},
     "output_type": "execute_result"
    }
   ],
   "source": [
    "(5+9)**3"
   ]
  },
  {
   "cell_type": "markdown",
   "metadata": {},
   "source": [
    "<a id=\"assignment\"></a>\n",
    "#### Assignment operators\n",
    "\n",
    "We have already seen that `=` assigns a value (on the right hand side) to a variable (on the left hand side). We can combine this with the arithmetic operators to create assignment operators - allowing us to combine arithmetic *and* assignment.\n",
    "\n",
    "For example, `x += 5` is the same as `x = x + 5`, and `x *= 2` is the same as `x = x*2`. Check out the examples below, and play around with it."
   ]
  },
  {
   "cell_type": "code",
   "execution_count": 13,
   "metadata": {
    "collapsed": false
   },
   "outputs": [
    {
     "name": "stdout",
     "output_type": "stream",
     "text": [
      "1.5\n"
     ]
    }
   ],
   "source": [
    "x = 0.5\n",
    "x *= 3\n",
    "print(x)"
   ]
  },
  {
   "cell_type": "code",
   "execution_count": 14,
   "metadata": {
    "collapsed": false
   },
   "outputs": [
    {
     "name": "stdout",
     "output_type": "stream",
     "text": [
      "1.0\n"
     ]
    }
   ],
   "source": [
    "x -= 0.5\n",
    "print(x)"
   ]
  },
  {
   "cell_type": "markdown",
   "metadata": {},
   "source": [
    "#### Relational operators\n",
    "\n",
    "These allow us to compare variable values, returning `True` if the condition is satisfied, and `False` otherwise.\n",
    "\n",
    "| Operator | Description |\n",
    "|:-------:|------------------------------|\n",
    "|   `==`  | equal to                     |                                                       \n",
    "|  `!=`   | not equal to                 |\n",
    "| `<`     | less than |\n",
    "|   `>`   | greater than |\n",
    "|   `<=`  | less than or equal to |\n",
    "|   `>=`  | greater than or equal to |"
   ]
  },
  {
   "cell_type": "code",
   "execution_count": 15,
   "metadata": {
    "collapsed": false
   },
   "outputs": [
    {
     "data": {
      "text/plain": [
       "False"
      ]
     },
     "execution_count": 15,
     "metadata": {},
     "output_type": "execute_result"
    }
   ],
   "source": [
    "\"hello\" == \"Hello\""
   ]
  },
  {
   "cell_type": "code",
   "execution_count": 16,
   "metadata": {
    "collapsed": false
   },
   "outputs": [
    {
     "data": {
      "text/plain": [
       "False"
      ]
     },
     "execution_count": 16,
     "metadata": {},
     "output_type": "execute_result"
    }
   ],
   "source": [
    "x = 2\n",
    "3 <= x < 7"
   ]
  },
  {
   "cell_type": "code",
   "execution_count": 17,
   "metadata": {
    "collapsed": false
   },
   "outputs": [
    {
     "data": {
      "text/plain": [
       "True"
      ]
     },
     "execution_count": 17,
     "metadata": {},
     "output_type": "execute_result"
    }
   ],
   "source": [
    "2 >= x < 5"
   ]
  },
  {
   "cell_type": "markdown",
   "metadata": {},
   "source": [
    "#### Membership operators\n",
    "\n",
    "These operators allow us to test for membership of certain elements in a sequence.\n",
    "\n",
    "* `in` returns `True` if the element on the left hand side is contained within the operator on the right hand side, and `False` otherwise"
   ]
  },
  {
   "cell_type": "code",
   "execution_count": 18,
   "metadata": {
    "collapsed": false
   },
   "outputs": [
    {
     "data": {
      "text/plain": [
       "True"
      ]
     },
     "execution_count": 18,
     "metadata": {},
     "output_type": "execute_result"
    }
   ],
   "source": [
    "'o' in 'Hello, world!'"
   ]
  },
  {
   "cell_type": "code",
   "execution_count": 19,
   "metadata": {
    "collapsed": false
   },
   "outputs": [
    {
     "data": {
      "text/plain": [
       "True"
      ]
     },
     "execution_count": 19,
     "metadata": {},
     "output_type": "execute_result"
    }
   ],
   "source": [
    "'Hello' in 'Hello, world!'"
   ]
  },
  {
   "cell_type": "code",
   "execution_count": 20,
   "metadata": {
    "collapsed": false
   },
   "outputs": [
    {
     "data": {
      "text/plain": [
       "False"
      ]
     },
     "execution_count": 20,
     "metadata": {},
     "output_type": "execute_result"
    }
   ],
   "source": [
    "'j' in 'Hello, world!'"
   ]
  },
  {
   "cell_type": "markdown",
   "metadata": {},
   "source": [
    "* `not in` provides the *negation* of the `in` operator"
   ]
  },
  {
   "cell_type": "code",
   "execution_count": 21,
   "metadata": {
    "collapsed": false
   },
   "outputs": [
    {
     "data": {
      "text/plain": [
       "True"
      ]
     },
     "execution_count": 21,
     "metadata": {},
     "output_type": "execute_result"
    }
   ],
   "source": [
    "'j' not in 'Hello, World!'"
   ]
  },
  {
   "cell_type": "markdown",
   "metadata": {},
   "source": [
    "#### Identity operators\n",
    "\n",
    "* `is` and `not is` are similar to equals `==` and not equals `!=`. However, rather than test to see if two variables have the same **value**, they instead check to see if two variables point to the **same location in memory**. The identity operator is therefore a **stronger test of equality than the equals operators**."
   ]
  },
  {
   "cell_type": "code",
   "execution_count": 22,
   "metadata": {
    "collapsed": false
   },
   "outputs": [],
   "source": [
    "x = 5\n",
    "y = x"
   ]
  },
  {
   "cell_type": "code",
   "execution_count": 23,
   "metadata": {
    "collapsed": false
   },
   "outputs": [
    {
     "data": {
      "text/plain": [
       "True"
      ]
     },
     "execution_count": 23,
     "metadata": {},
     "output_type": "execute_result"
    }
   ],
   "source": [
    "x == y"
   ]
  },
  {
   "cell_type": "code",
   "execution_count": 24,
   "metadata": {
    "collapsed": false
   },
   "outputs": [
    {
     "data": {
      "text/plain": [
       "True"
      ]
     },
     "execution_count": 24,
     "metadata": {},
     "output_type": "execute_result"
    }
   ],
   "source": [
    "x is y"
   ]
  },
  {
   "cell_type": "markdown",
   "metadata": {},
   "source": [
    "The last cell returns `True` because `x` and `y` point to the same location in memory. We can use the `id()` function to double check this:"
   ]
  },
  {
   "cell_type": "code",
   "execution_count": 25,
   "metadata": {
    "collapsed": false
   },
   "outputs": [
    {
     "data": {
      "text/plain": [
       "10055680"
      ]
     },
     "execution_count": 25,
     "metadata": {},
     "output_type": "execute_result"
    }
   ],
   "source": [
    "id(x)"
   ]
  },
  {
   "cell_type": "code",
   "execution_count": 26,
   "metadata": {
    "collapsed": false
   },
   "outputs": [
    {
     "data": {
      "text/plain": [
       "10055680"
      ]
     },
     "execution_count": 26,
     "metadata": {},
     "output_type": "execute_result"
    }
   ],
   "source": [
    "id(y)"
   ]
  },
  {
   "cell_type": "code",
   "execution_count": 27,
   "metadata": {
    "collapsed": false
   },
   "outputs": [
    {
     "data": {
      "text/plain": [
       "True"
      ]
     },
     "execution_count": 27,
     "metadata": {},
     "output_type": "execute_result"
    }
   ],
   "source": [
    "id(x) == id(y)"
   ]
  },
  {
   "cell_type": "markdown",
   "metadata": {},
   "source": [
    "Let's consider another case:"
   ]
  },
  {
   "cell_type": "code",
   "execution_count": 28,
   "metadata": {
    "collapsed": true
   },
   "outputs": [],
   "source": [
    "x = 5\n",
    "y = 5."
   ]
  },
  {
   "cell_type": "code",
   "execution_count": 29,
   "metadata": {
    "collapsed": false
   },
   "outputs": [
    {
     "data": {
      "text/plain": [
       "True"
      ]
     },
     "execution_count": 29,
     "metadata": {},
     "output_type": "execute_result"
    }
   ],
   "source": [
    "x == y"
   ]
  },
  {
   "cell_type": "code",
   "execution_count": 30,
   "metadata": {
    "collapsed": false
   },
   "outputs": [
    {
     "data": {
      "text/plain": [
       "False"
      ]
     },
     "execution_count": 30,
     "metadata": {},
     "output_type": "execute_result"
    }
   ],
   "source": [
    "x is y"
   ]
  },
  {
   "cell_type": "code",
   "execution_count": 31,
   "metadata": {
    "collapsed": false
   },
   "outputs": [
    {
     "data": {
      "text/plain": [
       "10055680"
      ]
     },
     "execution_count": 31,
     "metadata": {},
     "output_type": "execute_result"
    }
   ],
   "source": [
    "id(x)"
   ]
  },
  {
   "cell_type": "code",
   "execution_count": 32,
   "metadata": {
    "collapsed": false
   },
   "outputs": [
    {
     "data": {
      "text/plain": [
       "140120787521040"
      ]
     },
     "execution_count": 32,
     "metadata": {},
     "output_type": "execute_result"
    }
   ],
   "source": [
    "id(y)"
   ]
  },
  {
   "cell_type": "markdown",
   "metadata": {},
   "source": [
    "As `x` and `y` are now different data types (`x` is an `int`, and `y` is a `float`), they are stored in different memory locations. However, their numeric value (5) are equal."
   ]
  },
  {
   "cell_type": "markdown",
   "metadata": {},
   "source": [
    "#### Logical operators"
   ]
  },
  {
   "cell_type": "markdown",
   "metadata": {},
   "source": [
    "| Operator | Description |\n",
    "|:--------:|-------------|\n",
    "| `not`    | negates `True` to `False`, and `False` to `True` |\n",
    "| `and`    | `True` if and only if both operands are `True` |\n",
    "| `or`    | `True` if at least one operand is `True` |"
   ]
  },
  {
   "cell_type": "code",
   "execution_count": 33,
   "metadata": {
    "collapsed": false
   },
   "outputs": [
    {
     "data": {
      "text/plain": [
       "True"
      ]
     },
     "execution_count": 33,
     "metadata": {},
     "output_type": "execute_result"
    }
   ],
   "source": [
    "x = 5\n",
    "not (x/2 == 9)"
   ]
  },
  {
   "cell_type": "code",
   "execution_count": 34,
   "metadata": {
    "collapsed": false
   },
   "outputs": [
    {
     "data": {
      "text/plain": [
       "True"
      ]
     },
     "execution_count": 34,
     "metadata": {},
     "output_type": "execute_result"
    }
   ],
   "source": [
    "x < 10 or x%2 == 0"
   ]
  },
  {
   "cell_type": "code",
   "execution_count": 35,
   "metadata": {
    "collapsed": false
   },
   "outputs": [
    {
     "data": {
      "text/plain": [
       "False"
      ]
     },
     "execution_count": 35,
     "metadata": {},
     "output_type": "execute_result"
    }
   ],
   "source": [
    "x < 10 and x%2 == 0"
   ]
  },
  {
   "cell_type": "markdown",
   "metadata": {},
   "source": [
    "## If statements\n",
    "\n",
    "Control statements are an essential component of programming, allowing\n",
    "you to control which section of code is executed based on the state of the\n",
    "program, and how many times certain sections should repeat. There are two\n",
    "main control statements we will cover here; selection (if) and loops (for\n",
    "and while).\n",
    "\n",
    "The if statement enables a choice of code to execute, depending on various\n",
    "logical conditions. It is structured as follows:\n",
    "\n",
    "```python\n",
    "if condition1:\n",
    "    # Python code block\n",
    "elif condition2:\n",
    "    # Python code block\n",
    "else:\n",
    "    # Python code block\n",
    "```\n",
    "In this case, `condition1` and `condition2` correspond to Python expressions\n",
    "that return either `True` or `False`. When the above if statement is encountered,\n",
    "the conditions are evaluated sequentially (i.e. from the top down). When\n",
    "the first condition that evaluates to `True` is found, the corresponding Python\n",
    "code block will be executed. Otherwise, if all of the conditions evaluate to\n",
    "`False`, the `else` code block is executed.\n",
    "\n",
    "Note: in the above, the `elif` and `else` statements are completely optional; the only part required is the initial `if` command.\n",
    "\n",
    "---\n",
    "<div class=\"alert alert-block alert-warning\">\n",
    "**Example:** use an if statement to calculate the smallest of three variables a, b, and c\n",
    "</div>"
   ]
  },
  {
   "cell_type": "code",
   "execution_count": 36,
   "metadata": {
    "collapsed": true
   },
   "outputs": [],
   "source": [
    "a = 5\n",
    "b = 2.56\n",
    "c = 8.2\n",
    "\n",
    "if a < b and a < c:\n",
    "    result = a\n",
    "elif b < a and b < c:\n",
    "    result = b\n",
    "else:\n",
    "    result = c"
   ]
  },
  {
   "cell_type": "code",
   "execution_count": 37,
   "metadata": {
    "collapsed": false
   },
   "outputs": [
    {
     "name": "stdout",
     "output_type": "stream",
     "text": [
      "2.56\n"
     ]
    }
   ],
   "source": [
    "print(result)"
   ]
  },
  {
   "cell_type": "markdown",
   "metadata": {},
   "source": [
    "---"
   ]
  },
  {
   "cell_type": "markdown",
   "metadata": {},
   "source": [
    "We can also nest `if` statements:"
   ]
  },
  {
   "cell_type": "code",
   "execution_count": 38,
   "metadata": {
    "collapsed": false
   },
   "outputs": [
    {
     "name": "stdout",
     "output_type": "stream",
     "text": [
      "x contains a partial hello world!\n"
     ]
    }
   ],
   "source": [
    "x = 'Hello'\n",
    "\n",
    "if x in 'Hello, world!':\n",
    "    if x != 'Hello, world!':\n",
    "        print('x contains a partial hello world!')\n",
    "    else:\n",
    "        print('x is hello world!')\n",
    "else:\n",
    "    print('x is not hello world!')"
   ]
  },
  {
   "cell_type": "markdown",
   "metadata": {},
   "source": [
    "## Data structures\n",
    "So far, we have introduced you to numeric types (`int`, `float`, `complex`),\n",
    "strings (`str`), and logical types (`bool`). However, you've probably noticed\n",
    "hints throughout the previous chapters that this is not all - there are other\n",
    "data types available, known as data structures. These are **sequences** of literals, and include tuples,\n",
    "lists, sets, and dictionaries.\n",
    "\n",
    "In this course, we will primarily use **ordered** data structures, such as tuples and lists. **Unordered** data structures like sets and dictionaries are also incredibly useful - feel free to read up on them, and use them if you would like."
   ]
  },
  {
   "cell_type": "markdown",
   "metadata": {},
   "source": [
    "### Tuples\n",
    "\n",
    "Tuples are sequences of values, enclosed within parenthesis `(` `)` and separated by commas:"
   ]
  },
  {
   "cell_type": "code",
   "execution_count": 39,
   "metadata": {
    "collapsed": true
   },
   "outputs": [],
   "source": [
    "tp1 = (1, 2, 5, 7, 3, -1, 4)\n",
    "tp2 = (\"In\", \"this\", \"part\", \"of\", \"the\", \"country?\")"
   ]
  },
  {
   "cell_type": "markdown",
   "metadata": {},
   "source": [
    "Tuples can contain any combination of data types, the elements don't need to be all the same type:"
   ]
  },
  {
   "cell_type": "code",
   "execution_count": 40,
   "metadata": {
    "collapsed": true
   },
   "outputs": [],
   "source": [
    "tp3 = (1.543, 9-0.6j, True, 's')"
   ]
  },
  {
   "cell_type": "markdown",
   "metadata": {},
   "source": [
    "For a tuple of size one, you need to include the trailing comma to indicate that this is a tuple, and not brackets as used in arithmetic!"
   ]
  },
  {
   "cell_type": "code",
   "execution_count": 41,
   "metadata": {
    "collapsed": true
   },
   "outputs": [],
   "source": [
    "tp4 = (7,)"
   ]
  },
  {
   "cell_type": "markdown",
   "metadata": {},
   "source": [
    "Tuples can also be **nested**:"
   ]
  },
  {
   "cell_type": "code",
   "execution_count": 42,
   "metadata": {
    "collapsed": false
   },
   "outputs": [],
   "source": [
    "tp5 = (tp1, tp4, 8)"
   ]
  },
  {
   "cell_type": "markdown",
   "metadata": {},
   "source": [
    "Note that the brackets are not strictly necessary - as long as you have the commas, Python knows that you are defining a tuple:"
   ]
  },
  {
   "cell_type": "code",
   "execution_count": 43,
   "metadata": {
    "collapsed": false
   },
   "outputs": [
    {
     "name": "stdout",
     "output_type": "stream",
     "text": [
      "(8, 3, 1) <class 'tuple'>\n"
     ]
    }
   ],
   "source": [
    "tp6 = 8,3,1\n",
    "print(tp6, type(tp6))"
   ]
  },
  {
   "cell_type": "markdown",
   "metadata": {},
   "source": [
    "Look familiar? Back in [Assignment Operators](#assignment), we saw that we could set multiple variables at once:\n",
    "```python\n",
    "a, b, c = 8, 3, 1\n",
    "```\n",
    "Now we can see that both sides are simply tuples! This is called **sequence unpacking**, and allows us to directly set the elements of a tuple to variables:"
   ]
  },
  {
   "cell_type": "code",
   "execution_count": 44,
   "metadata": {
    "collapsed": false
   },
   "outputs": [
    {
     "name": "stdout",
     "output_type": "stream",
     "text": [
      "8\n"
     ]
    }
   ],
   "source": [
    "x, y, z = tp6\n",
    "print(x)"
   ]
  },
  {
   "cell_type": "markdown",
   "metadata": {},
   "source": [
    "### Lists\n",
    "\n",
    "Lists, on first glance, are remarkably similar to tuples. Both are data\n",
    "structures that can contain ordered sequences of elements, tuples denoted by brackets, and lists denoted by square brackets:"
   ]
  },
  {
   "cell_type": "code",
   "execution_count": 45,
   "metadata": {
    "collapsed": true
   },
   "outputs": [],
   "source": [
    "a = [1, 2, 5, 6, 1, -1, 0, 10]"
   ]
  },
  {
   "cell_type": "markdown",
   "metadata": {},
   "source": [
    "We can convert a list to a tuple using the `tuple()` function, and we can convert tuples to lists using the `list()` function:"
   ]
  },
  {
   "cell_type": "code",
   "execution_count": 46,
   "metadata": {
    "collapsed": false
   },
   "outputs": [
    {
     "data": {
      "text/plain": [
       "(1, 2, 5, 6, 1, -1, 0, 10)"
      ]
     },
     "execution_count": 46,
     "metadata": {},
     "output_type": "execute_result"
    }
   ],
   "source": [
    "tuple(a)"
   ]
  },
  {
   "cell_type": "code",
   "execution_count": 47,
   "metadata": {
    "collapsed": false
   },
   "outputs": [
    {
     "data": {
      "text/plain": [
       "['In', 'this', 'part', 'of', 'the', 'country?']"
      ]
     },
     "execution_count": 47,
     "metadata": {},
     "output_type": "execute_result"
    }
   ],
   "source": [
    "list(tp2)"
   ]
  },
  {
   "cell_type": "markdown",
   "metadata": {},
   "source": [
    "### Operators and Intrinsic functions\n",
    "\n",
    "Python provides us with some operators that act on lists and tuples.\n",
    "\n",
    "First off, we have the **concatenation operator**, given by `+`, which acts on two data structures joining them together:"
   ]
  },
  {
   "cell_type": "code",
   "execution_count": 48,
   "metadata": {
    "collapsed": false
   },
   "outputs": [
    {
     "data": {
      "text/plain": [
       "[1, 2, 6, 'hi', True, 8]"
      ]
     },
     "execution_count": 48,
     "metadata": {},
     "output_type": "execute_result"
    }
   ],
   "source": [
    "[1,2,6] + ['hi', True, 8]"
   ]
  },
  {
   "cell_type": "code",
   "execution_count": 49,
   "metadata": {
    "collapsed": false
   },
   "outputs": [
    {
     "data": {
      "text/plain": [
       "('In',\n",
       " 'this',\n",
       " 'part',\n",
       " 'of',\n",
       " 'the',\n",
       " 'country?',\n",
       " 'Localised',\n",
       " 'entirely',\n",
       " 'in',\n",
       " 'your',\n",
       " 'kitchen?')"
      ]
     },
     "execution_count": 49,
     "metadata": {},
     "output_type": "execute_result"
    }
   ],
   "source": [
    "tp2 + (\"Localised\", \"entirely\", \"in\", \"your\", \"kitchen?\")"
   ]
  },
  {
   "cell_type": "markdown",
   "metadata": {},
   "source": [
    "We also have the **repetition operator**, `*`, which repeats a list or tuple a specified number of times:"
   ]
  },
  {
   "cell_type": "code",
   "execution_count": 50,
   "metadata": {
    "collapsed": false
   },
   "outputs": [
    {
     "data": {
      "text/plain": [
       "(1, 2, 3, 1, 2, 3, 1, 2, 3, 1, 2, 3, 1, 2, 3)"
      ]
     },
     "execution_count": 50,
     "metadata": {},
     "output_type": "execute_result"
    }
   ],
   "source": [
    "(1, 2, 3)*5"
   ]
  },
  {
   "cell_type": "code",
   "execution_count": 51,
   "metadata": {
    "collapsed": false
   },
   "outputs": [
    {
     "data": {
      "text/plain": [
       "['yes', 'yes', 'yes', 'yes', 'yes', 'no']"
      ]
     },
     "execution_count": 51,
     "metadata": {},
     "output_type": "execute_result"
    }
   ],
   "source": [
    "[\"yes\"]*5 + [\"no\"]"
   ]
  },
  {
   "cell_type": "markdown",
   "metadata": {},
   "source": [
    "The membership operators we came across earlier also work on lists and tuples:"
   ]
  },
  {
   "cell_type": "code",
   "execution_count": 52,
   "metadata": {
    "collapsed": false
   },
   "outputs": [
    {
     "data": {
      "text/plain": [
       "True"
      ]
     },
     "execution_count": 52,
     "metadata": {},
     "output_type": "execute_result"
    }
   ],
   "source": [
    "-1 in [5,6,-1,2]"
   ]
  },
  {
   "cell_type": "code",
   "execution_count": 53,
   "metadata": {
    "collapsed": false
   },
   "outputs": [
    {
     "data": {
      "text/plain": [
       "False"
      ]
     },
     "execution_count": 53,
     "metadata": {},
     "output_type": "execute_result"
    }
   ],
   "source": [
    "True not in (True, False, 0, 0.543)"
   ]
  },
  {
   "cell_type": "markdown",
   "metadata": {},
   "source": [
    "In addition, Python also provides us with some **intrinsic functions** that apply to lists and tuples:\n",
    "\n",
    "| Function | Description |\n",
    "|:--------:|-------------|\n",
    "| `len()`  | returns the length of the data structure |\n",
    "|`max()`   | returns the element of the data structure with the largest numeric value |\n",
    "|`min()` | returns the element of the data structure with the smallest numeric value |\n",
    "|`sorted()` | sorts the data structure numerically, from lowest to highest |"
   ]
  },
  {
   "cell_type": "code",
   "execution_count": 54,
   "metadata": {
    "collapsed": true
   },
   "outputs": [],
   "source": [
    "b = [1,2,7,4,2,1]"
   ]
  },
  {
   "cell_type": "code",
   "execution_count": 55,
   "metadata": {
    "collapsed": false
   },
   "outputs": [
    {
     "data": {
      "text/plain": [
       "6"
      ]
     },
     "execution_count": 55,
     "metadata": {},
     "output_type": "execute_result"
    }
   ],
   "source": [
    "len(b)"
   ]
  },
  {
   "cell_type": "code",
   "execution_count": 56,
   "metadata": {
    "collapsed": false
   },
   "outputs": [
    {
     "data": {
      "text/plain": [
       "[1, 1, 2, 2, 4, 7]"
      ]
     },
     "execution_count": 56,
     "metadata": {},
     "output_type": "execute_result"
    }
   ],
   "source": [
    "sorted(b)"
   ]
  },
  {
   "cell_type": "markdown",
   "metadata": {},
   "source": [
    "### Indexing and slicing\n",
    "\n",
    "What if we already have a data structure, and we want to access some of the stored data? There are several ways we can retrieve the individual elements from a data structure.\n",
    "\n",
    "* We can access individual elements through **indexing**, by using square brackets to the right of the data structure to indicate the element index.\n",
    "\n",
    "In Python, indexing of data structures **always starts at 0**. Thus, a tuple or list with $n$ elements will be indexed by the indices $0,1,2,\\dots,n-1$.\n",
    "\n",
    "That is, an index of $i$ will correspond to the $(i-1)$th element."
   ]
  },
  {
   "cell_type": "code",
   "execution_count": 57,
   "metadata": {
    "collapsed": true
   },
   "outputs": [],
   "source": [
    "c = [12, 13, 14, 15, 16]"
   ]
  },
  {
   "cell_type": "code",
   "execution_count": 58,
   "metadata": {
    "collapsed": false
   },
   "outputs": [
    {
     "name": "stdout",
     "output_type": "stream",
     "text": [
      "12 14 15\n"
     ]
    }
   ],
   "source": [
    "print(c[0], c[2], c[3])"
   ]
  },
  {
   "cell_type": "markdown",
   "metadata": {},
   "source": [
    "We can also use **negative indices** to access elements in reverse, from right to left, without having to know how long the data structure is. In this case, an index of -1 will correspond to the last element, -2 correspond to the second-to-last element, etc."
   ]
  },
  {
   "cell_type": "code",
   "execution_count": 59,
   "metadata": {
    "collapsed": false
   },
   "outputs": [
    {
     "name": "stdout",
     "output_type": "stream",
     "text": [
      "16 15 12\n"
     ]
    }
   ],
   "source": [
    "print(c[-1], c[-2], c[-5])"
   ]
  },
  {
   "cell_type": "markdown",
   "metadata": {},
   "source": [
    "![slicing](images/slicing.png)\n",
    "The image above illustrates Python indexing of a data structure with $n$ elements. The data structure is in black, the indices from left to right are in red, and the indices from right to left are in green.\n",
    "\n",
    "* We can access a **range** of elements through a process known as **slicing**. Rather than returning a single element, this process will return a smaller version of the original data structure. \n",
    "\n",
    "Slicing is done by using the notation\n",
    "```python\n",
    "datastructure[start:end:step]\n",
    "```\n",
    "where\n",
    "\n",
    "* `start` is the starting index of the slice (i.e. the first element included)\n",
    "    - Default is 0 if not specified\n",
    "* `end` is the ending index of the slice. The returned range of element will **not** include the element at the end index!\n",
    "    - Default is n-1 if not specified\n",
    "* `step` is the integer increment between each slice\n",
    "    - Default is 1 if not specified\n",
    "    \n",
    "Try and predict what the following slice operations will look like before running the cells. Did you get them right?"
   ]
  },
  {
   "cell_type": "code",
   "execution_count": 60,
   "metadata": {
    "collapsed": true
   },
   "outputs": [],
   "source": [
    "l1 = [1, 2, 3, 4, 5, 6, 7, 8, 9, 10]"
   ]
  },
  {
   "cell_type": "code",
   "execution_count": 61,
   "metadata": {
    "collapsed": false
   },
   "outputs": [
    {
     "data": {
      "text/plain": [
       "[3, 4]"
      ]
     },
     "execution_count": 61,
     "metadata": {},
     "output_type": "execute_result"
    }
   ],
   "source": [
    "l1[2:4]"
   ]
  },
  {
   "cell_type": "code",
   "execution_count": 62,
   "metadata": {
    "collapsed": false
   },
   "outputs": [
    {
     "data": {
      "text/plain": [
       "[2, 4, 6, 8]"
      ]
     },
     "execution_count": 62,
     "metadata": {},
     "output_type": "execute_result"
    }
   ],
   "source": [
    "l1[1:8:2]"
   ]
  },
  {
   "cell_type": "code",
   "execution_count": 63,
   "metadata": {
    "collapsed": false
   },
   "outputs": [
    {
     "data": {
      "text/plain": [
       "[10, 8, 6]"
      ]
     },
     "execution_count": 63,
     "metadata": {},
     "output_type": "execute_result"
    }
   ],
   "source": [
    "l1[-1:-7:-2]"
   ]
  },
  {
   "cell_type": "code",
   "execution_count": 64,
   "metadata": {
    "collapsed": false
   },
   "outputs": [
    {
     "data": {
      "text/plain": [
       "[2, 3, 4, 5, 6, 7, 8, 9, 10]"
      ]
     },
     "execution_count": 64,
     "metadata": {},
     "output_type": "execute_result"
    }
   ],
   "source": [
    "l1[1:]"
   ]
  },
  {
   "cell_type": "code",
   "execution_count": 65,
   "metadata": {
    "collapsed": false
   },
   "outputs": [
    {
     "data": {
      "text/plain": [
       "[1, 3, 5, 7, 9]"
      ]
     },
     "execution_count": 65,
     "metadata": {},
     "output_type": "execute_result"
    }
   ],
   "source": [
    "l1[::2]"
   ]
  },
  {
   "cell_type": "markdown",
   "metadata": {},
   "source": [
    "What happens if we have a nested list? In that case, we simply use additional square brackets for each nested list:"
   ]
  },
  {
   "cell_type": "code",
   "execution_count": 66,
   "metadata": {
    "collapsed": true
   },
   "outputs": [],
   "source": [
    "a = [[0,1,2],\n",
    "     [3,4,5],\n",
    "     [6,7,8]]"
   ]
  },
  {
   "cell_type": "code",
   "execution_count": 67,
   "metadata": {
    "collapsed": false
   },
   "outputs": [
    {
     "data": {
      "text/plain": [
       "[3, 4, 5]"
      ]
     },
     "execution_count": 67,
     "metadata": {},
     "output_type": "execute_result"
    }
   ],
   "source": [
    "a[1]"
   ]
  },
  {
   "cell_type": "code",
   "execution_count": 68,
   "metadata": {
    "collapsed": false
   },
   "outputs": [
    {
     "data": {
      "text/plain": [
       "5"
      ]
     },
     "execution_count": 68,
     "metadata": {},
     "output_type": "execute_result"
    }
   ],
   "source": [
    "a[1][2]"
   ]
  },
  {
   "cell_type": "markdown",
   "metadata": {},
   "source": [
    "### Modifying data structures\n",
    "\n",
    "You might be thinking, well, just what's the point of having *both* tuples and lists - aren't they pretty much the same thing?\n",
    "\n",
    "Consider the following case, where we have defined a tuple and a list, and then use indexing to attempt to change the second element."
   ]
  },
  {
   "cell_type": "code",
   "execution_count": 69,
   "metadata": {
    "collapsed": true
   },
   "outputs": [],
   "source": [
    "l2 = [2,7,8,2]\n",
    "t2 = (2,7,8,2)"
   ]
  },
  {
   "cell_type": "code",
   "execution_count": 70,
   "metadata": {
    "collapsed": false
   },
   "outputs": [
    {
     "name": "stdout",
     "output_type": "stream",
     "text": [
      "[2, 0, 8, 2]\n"
     ]
    }
   ],
   "source": [
    "l2[1] = 0\n",
    "print(l2)"
   ]
  },
  {
   "cell_type": "code",
   "execution_count": 71,
   "metadata": {
    "collapsed": false
   },
   "outputs": [
    {
     "ename": "TypeError",
     "evalue": "'tuple' object does not support item assignment",
     "output_type": "error",
     "traceback": [
      "\u001b[0;31m---------------------------------------------------------------------------\u001b[0m",
      "\u001b[0;31mTypeError\u001b[0m                                 Traceback (most recent call last)",
      "\u001b[0;32m<ipython-input-71-d64b48873150>\u001b[0m in \u001b[0;36m<module>\u001b[0;34m()\u001b[0m\n\u001b[0;32m----> 1\u001b[0;31m \u001b[0mt2\u001b[0m\u001b[0;34m[\u001b[0m\u001b[0;36m1\u001b[0m\u001b[0;34m]\u001b[0m \u001b[0;34m=\u001b[0m \u001b[0;36m0\u001b[0m\u001b[0;34m\u001b[0m\u001b[0m\n\u001b[0m\u001b[1;32m      2\u001b[0m \u001b[0mprint\u001b[0m\u001b[0;34m(\u001b[0m\u001b[0mt2\u001b[0m\u001b[0;34m)\u001b[0m\u001b[0;34m\u001b[0m\u001b[0m\n",
      "\u001b[0;31mTypeError\u001b[0m: 'tuple' object does not support item assignment"
     ]
    }
   ],
   "source": [
    "t2[1] = 0\n",
    "print(t2)"
   ]
  },
  {
   "cell_type": "markdown",
   "metadata": {},
   "source": [
    "<div class=\"alert alert-block alert-info\">\n",
    "What is happening here?\n",
    "<br>\n",
    "It turns out that lists are **mutable**, meaning we can modify them after they have been created and stored in memory.\n",
    "<br>\n",
    "Tuples, on the other hand, are **immutable**, they cannot be modify after being created.\n",
    "</div>"
   ]
  },
  {
   "cell_type": "markdown",
   "metadata": {},
   "source": [
    "We can also modify portions or slices of a list at once. Print out `a` after the following changes, and see what it looks like. Is this what you expect?"
   ]
  },
  {
   "cell_type": "code",
   "execution_count": 72,
   "metadata": {
    "collapsed": true
   },
   "outputs": [],
   "source": [
    "a = [1, 2, 6, 1, 7, 1, 0, -6]\n",
    "a[4:] = [11,12,13,14]"
   ]
  },
  {
   "cell_type": "code",
   "execution_count": 73,
   "metadata": {
    "collapsed": true
   },
   "outputs": [],
   "source": [
    "a[::2] = [0,0,0,0]"
   ]
  },
  {
   "cell_type": "markdown",
   "metadata": {},
   "source": [
    "We can even use the `del` statement to delete elements of a list:"
   ]
  },
  {
   "cell_type": "code",
   "execution_count": 74,
   "metadata": {
    "collapsed": true
   },
   "outputs": [],
   "source": [
    "del a[-1]"
   ]
  },
  {
   "cell_type": "markdown",
   "metadata": {},
   "source": [
    "#### List methods\n",
    "\n",
    "In addition to using slices, indices and assignment to change list elements, lists also come with built in **methods** that allow us to modify lists.\n",
    "<br><br>\n",
    "\n",
    "<div class=\"alert alert-block alert-info\">\n",
    "**What's the difference between a function and a method?**\n",
    "<br>\n",
    "A function is something that you call, and apply to an object along with any other arguments. For example, we already came across the `sorted()` function, which sorts data structures:\n",
    "<br><br>\n",
    "```\n",
    "l1 = [4,56,2]\n",
    "sorted(l1)\n",
    "```\n",
    "<br><br>\n",
    "Methods are also functions, but they are instead *attached* to the object they act on. We call them by writing the variable we have used to store an object, followed by a period, and then the name of the method:\n",
    "<br><br>\n",
    "```\n",
    "l1.sort()\n",
    "```\n",
    "<br><br>\n",
    "Different data types in Python support different methods. To make it clear which objects a method is available for, I will always write them in the format `object.method([arguments])`.\n",
    "</div>\n",
    "\n",
    "Some useful list methods are:\n",
    "\n",
    "* `list.append(x)`: This appends the element `x` to the end of the list.\n",
    "    - For list `a`, equivalent to `a[len(a):] = [x]`.\n",
    "\n",
    "\n",
    "* `list.extend(b)`: This extends the list by appending the elements of another list `b`.\n",
    "    - For list `a`, equivalent to `a[len(a):len(a)] = b`\n",
    "    - Alternatively, this is the same as concatenating two lists, `a += b`\n",
    "    \n",
    "    \n",
    "* `list.insert(i,x)`: This inserts element `x` into the list at position given by index `i`.\n",
    "    - For list `a`, equivalent to `a[i:i]=x`\n",
    "    \n",
    "    \n",
    "* `list.remove(x)`: This removes the first occurrence of element `x` from a list.\n",
    "\n",
    "\n",
    "* `list.clear()`: Deletes all elements of a list, leaving just an empty list.\n",
    "    - For list `a`, equivalent to `del a[:]`\n",
    "    \n",
    "    \n",
    "* `list.copy`: Copies all items from a list, creating the same list in a **new memory location**.\n",
    "    - For list `a`, equivalent to `b = a[:]`\n",
    "    \n",
    "    \n",
    "* `list.reverse()`: Reverses all elements of a list **in-place**.\n",
    "\n",
    "\n",
    "* `list.sort()`: Sorts the list **in-place**.\n",
    "\n",
    "Note that some of these list methods have equivalent forms using slice notation. Try playing around with some examples below, to get a feel with how they work."
   ]
  },
  {
   "cell_type": "code",
   "execution_count": 75,
   "metadata": {
    "collapsed": true
   },
   "outputs": [],
   "source": [
    "a = [1, 2, 6, 1, 7, 1, 0, -6]"
   ]
  },
  {
   "cell_type": "code",
   "execution_count": 76,
   "metadata": {
    "collapsed": true
   },
   "outputs": [],
   "source": [
    "a.append(100)"
   ]
  },
  {
   "cell_type": "code",
   "execution_count": 77,
   "metadata": {
    "collapsed": false,
    "scrolled": true
   },
   "outputs": [
    {
     "data": {
      "text/plain": [
       "[1, 2, 6, 1, 7, 1, 0, -6, 100]"
      ]
     },
     "execution_count": 77,
     "metadata": {},
     "output_type": "execute_result"
    }
   ],
   "source": [
    "a"
   ]
  },
  {
   "cell_type": "code",
   "execution_count": 78,
   "metadata": {
    "collapsed": true
   },
   "outputs": [],
   "source": [
    "a.insert(2,-3)"
   ]
  },
  {
   "cell_type": "code",
   "execution_count": 79,
   "metadata": {
    "collapsed": false
   },
   "outputs": [
    {
     "data": {
      "text/plain": [
       "[1, 2, -3, 6, 1, 7, 1, 0, -6, 100]"
      ]
     },
     "execution_count": 79,
     "metadata": {},
     "output_type": "execute_result"
    }
   ],
   "source": [
    "a"
   ]
  },
  {
   "cell_type": "code",
   "execution_count": 80,
   "metadata": {
    "collapsed": true
   },
   "outputs": [],
   "source": [
    "a.reverse()"
   ]
  },
  {
   "cell_type": "code",
   "execution_count": 81,
   "metadata": {
    "collapsed": false
   },
   "outputs": [
    {
     "data": {
      "text/plain": [
       "[100, -6, 0, 1, 7, 1, 6, -3, 2, 1]"
      ]
     },
     "execution_count": 81,
     "metadata": {},
     "output_type": "execute_result"
    }
   ],
   "source": [
    "a"
   ]
  },
  {
   "cell_type": "markdown",
   "metadata": {},
   "source": [
    "#### Why do we need a method for list copying?\n",
    "\n",
    "We saw that we can use `b = a.copy()` or `b = a[:]` to make a copy of a list. Why can't we just do `b = a`? That would seem a lot simpler.\n",
    "\n",
    "Actually, `b = a` creates a **reference** instead of a copy; both `a` and `b` point to the **same memory location**."
   ]
  },
  {
   "cell_type": "code",
   "execution_count": 82,
   "metadata": {
    "collapsed": false
   },
   "outputs": [
    {
     "data": {
      "text/plain": [
       "True"
      ]
     },
     "execution_count": 82,
     "metadata": {},
     "output_type": "execute_result"
    }
   ],
   "source": [
    "b = a\n",
    "id(a) == id(b)"
   ]
  },
  {
   "cell_type": "markdown",
   "metadata": {},
   "source": [
    "That means, if we change an element in `a`, the corresponding element will also change in `b`!"
   ]
  },
  {
   "cell_type": "code",
   "execution_count": 83,
   "metadata": {
    "collapsed": false
   },
   "outputs": [
    {
     "name": "stdout",
     "output_type": "stream",
     "text": [
      "['hi', -6, 0, 1, 7, 1, 6, -3, 2, 1]\n"
     ]
    }
   ],
   "source": [
    "a[0] = 'hi'\n",
    "print(b)"
   ]
  },
  {
   "cell_type": "markdown",
   "metadata": {},
   "source": [
    "When we do `b = a.copy()` or `b = a[:]`, we are instead setting `b` to have the same **elements** of `a`, but it will not just be a reference to `a`. Try copying a list below, and then change it's element. Print out the copied list to make sure that it's elements weren't affected."
   ]
  },
  {
   "cell_type": "code",
   "execution_count": null,
   "metadata": {
    "collapsed": true
   },
   "outputs": [],
   "source": []
  },
  {
   "cell_type": "markdown",
   "metadata": {},
   "source": [
    "### Tuples vs. Lists\n",
    "\n",
    "'Well' you're probably saying. 'Now that you've shown me everything that lists can do, no need to keep storing all that information about tuples in my head!'\n",
    "\n",
    "Oh no, wait! Tuples and lists both have their places in modern Python programming.\n",
    "\n",
    "Tuples, being immutable, are usually used to store a known, unchanging number of heterogeneous elements - that is, elements which are not all necessarily the same type. For example, say we want to store the population, area (in km$^2$), and state of the Australian city of Perth:\n",
    "```python\n",
    "perth = (1943858, \"6417.9\", \"Western Australia\")\n",
    "```\n",
    "Lists, being mutable, are instead conventionally used to store an unknown or changing of homogeneous elements - elements which all share the same type. For example, a list of strings could be used to store the lines of text in a text file.\n",
    "\n",
    "Both tuples and lists also have their technical differences as well - to access elements, sequence unpacking is the fastest approach for tuples, whereas iterating over all elements using loops is the fastest approach for lists.\n",
    "\n",
    "\n",
    "A useful phrase to remember this distinction:\n",
    "\n",
    "> \"Loopy lists and structy tuples\" - *Python developer [Raymond Hettinger](https://rhettinger.wordpress.com/)*"
   ]
  },
  {
   "cell_type": "markdown",
   "metadata": {},
   "source": [
    "## Loops"
   ]
  },
  {
   "cell_type": "markdown",
   "metadata": {},
   "source": [
    "### While loops\n",
    "\n",
    "While loops are used to repeat a section of code until a certain condition has been met, and has a similar construction to the if statement:\n",
    "\n",
    "```python\n",
    "while condition:\n",
    "    # python code to run if condition is True\n",
    "```\n",
    "\n",
    "---\n",
    "<div class=\"alert alert-block alert-warning\">\n",
    "**Example:** use a while loop to print out all square numbers less than 60.\n",
    "</div>"
   ]
  },
  {
   "cell_type": "code",
   "execution_count": 84,
   "metadata": {
    "collapsed": false
   },
   "outputs": [
    {
     "name": "stdout",
     "output_type": "stream",
     "text": [
      "1\n",
      "4\n",
      "9\n",
      "16\n",
      "25\n",
      "36\n",
      "49\n"
     ]
    }
   ],
   "source": [
    "i = 1\n",
    "\n",
    "while i**2 < 60:\n",
    "    print(i**2)\n",
    "    i += 1"
   ]
  },
  {
   "cell_type": "markdown",
   "metadata": {},
   "source": [
    "### For loops\n",
    "\n",
    "For loops allows you to run a particular section of code over an iterable:\n",
    "\n",
    "```python\n",
    "for i in iter:\n",
    "    # python code for each value of i\n",
    "```\n",
    "\n",
    "In this case, the iterable `iter` can be any sequence. For example, it can be:\n",
    "\n",
    "* A **string**: each iteration loops through a single character in the string"
   ]
  },
  {
   "cell_type": "code",
   "execution_count": 85,
   "metadata": {
    "collapsed": false
   },
   "outputs": [
    {
     "name": "stdout",
     "output_type": "stream",
     "text": [
      "h\n",
      "e\n",
      "l\n",
      "l\n",
      "o\n",
      "!\n"
     ]
    }
   ],
   "source": [
    "for i in \"hello!\":\n",
    "    print(i)"
   ]
  },
  {
   "cell_type": "markdown",
   "metadata": {},
   "source": [
    "* A **data structure** such as a list or tuple: each iteration loops through a single element in the data structure"
   ]
  },
  {
   "cell_type": "code",
   "execution_count": 86,
   "metadata": {
    "collapsed": false
   },
   "outputs": [
    {
     "name": "stdout",
     "output_type": "stream",
     "text": [
      "1\n",
      "4\n",
      "8\n",
      "0.1\n",
      "1\n",
      "Yes\n"
     ]
    }
   ],
   "source": [
    "for i in [1,4,8,0.1,1,\"Yes\"]:\n",
    "    print(i)"
   ]
  },
  {
   "cell_type": "markdown",
   "metadata": {},
   "source": [
    "* A Python function that returns an iterable.\n",
    "\n",
    "A very useful example is the `range()` function. It has the following syntax:\n",
    "```python\n",
    "range(start, end, step)\n",
    "```\n",
    "where\n",
    "\n",
    "* `start` is the starting integer of the range (i.e. the first element included)\n",
    "    - Default is 0 if not specified\n",
    "* `end` is the ending integer of the range. The returned range will **not** include the element `end`!\n",
    "    - Default is n-1 if not specified\n",
    "* `step` is the integer increment between each integer in the range\n",
    "    - Default is 1 if not specified\n",
    "    \n",
    "Note that this is exactly the same behviour you expect when slicing!\n",
    "\n",
    "Let's have a look at an example:"
   ]
  },
  {
   "cell_type": "code",
   "execution_count": 87,
   "metadata": {
    "collapsed": false
   },
   "outputs": [
    {
     "name": "stdout",
     "output_type": "stream",
     "text": [
      "0\n",
      "1\n",
      "2\n",
      "3\n",
      "4\n"
     ]
    }
   ],
   "source": [
    "for i in range(0,5):\n",
    "    print(i)"
   ]
  },
  {
   "cell_type": "markdown",
   "metadata": {},
   "source": [
    "---\n",
    "<div class=\"alert alert-block alert-warning\">\n",
    "**Example:** use a for loop to print out all square numbers between 5 and 10 inclusive.\n",
    "</div>"
   ]
  },
  {
   "cell_type": "code",
   "execution_count": 88,
   "metadata": {
    "collapsed": false
   },
   "outputs": [
    {
     "name": "stdout",
     "output_type": "stream",
     "text": [
      "25\n",
      "36\n",
      "49\n",
      "64\n",
      "81\n",
      "100\n"
     ]
    }
   ],
   "source": [
    "for i in range(5,11):\n",
    "    print(i**2)"
   ]
  },
  {
   "cell_type": "markdown",
   "metadata": {},
   "source": [
    "### Flow control statements\n",
    "\n",
    "Flow control statements allow for additional control in `while` and `for` loops. In Python, these statements include `continue`, `break`, and `pass`:\n",
    "\n",
    "| Flow control statement | Description |\n",
    "|:----------------------:|-------------|\n",
    "|`continue` | all remaining lines in the current loop iteration are skipped, and the next loop iteration begins immediately.|\n",
    "|`break`| the loop is terminated at the current location, and the `else` statement is skipped|\n",
    "|`pass`| do nothing! This is a useful placeholder when you are prototyping code blocks that need to be indented, but have nothing to put there yet.|\n",
    "\n",
    "What do I mean by `else` statements? It turns out Python also supports optional `else` statements at the end of a loop:\n",
    "```python\n",
    "for i in range(10,0,-1):\n",
    "    # code block\n",
    "else:\n",
    "    # code block\n",
    "```\n",
    "\n",
    "The code inside the `else` statement runs after the loop only if the loop ends normally. If it ends prematurely via a `break` statement, the `else` statement will be skipped.\n",
    "\n",
    "\n",
    "---\n",
    "<div class=\"alert alert-block alert-warning\">\n",
    "**Example:** Complete the following code to print all square numbers between 10 and 60.\n",
    "</div>\n",
    "\n",
    "```python\n",
    "i = 0\n",
    "while True:\n",
    "```\n",
    "\n",
    "*Solution*:"
   ]
  },
  {
   "cell_type": "code",
   "execution_count": 89,
   "metadata": {
    "collapsed": false
   },
   "outputs": [
    {
     "name": "stdout",
     "output_type": "stream",
     "text": [
      "16\n",
      "25\n",
      "36\n",
      "49\n"
     ]
    }
   ],
   "source": [
    "i = 0\n",
    "while True:\n",
    "    i += 1\n",
    "    isq = i**2\n",
    "    \n",
    "    if isq < 10:\n",
    "        continue\n",
    "    elif isq > 60:\n",
    "        break\n",
    "    \n",
    "    print(isq)"
   ]
  },
  {
   "cell_type": "markdown",
   "metadata": {},
   "source": [
    "### List comprehension\n",
    "To create a list that contains all the squares of 0 to 10, we could use a for loop to populate an empty list:"
   ]
  },
  {
   "cell_type": "code",
   "execution_count": 90,
   "metadata": {
    "collapsed": true
   },
   "outputs": [],
   "source": [
    "squares = []\n",
    "for i in range(0,11):\n",
    "    squares.append(i)"
   ]
  },
  {
   "cell_type": "code",
   "execution_count": 91,
   "metadata": {
    "collapsed": false
   },
   "outputs": [
    {
     "name": "stdout",
     "output_type": "stream",
     "text": [
      "[0, 1, 2, 3, 4, 5, 6, 7, 8, 9, 10]\n"
     ]
    }
   ],
   "source": [
    "print(squares)"
   ]
  },
  {
   "cell_type": "markdown",
   "metadata": {},
   "source": [
    "However, Python gives us a more concise way to populate lists. This is known as **list comprehension**, and looks like this:\n",
    "```python\n",
    "[function(i) for i in iter]\n",
    "```\n",
    "Unlike a regular for loop, we start of by giving the expression for each element, followed by the for statement. So, in this example,"
   ]
  },
  {
   "cell_type": "code",
   "execution_count": 92,
   "metadata": {
    "collapsed": true
   },
   "outputs": [],
   "source": [
    "squares = [i**2 for i in range(0,11)]"
   ]
  },
  {
   "cell_type": "code",
   "execution_count": 93,
   "metadata": {
    "collapsed": false
   },
   "outputs": [
    {
     "name": "stdout",
     "output_type": "stream",
     "text": [
      "[0, 1, 4, 9, 16, 25, 36, 49, 64, 81, 100]\n"
     ]
    }
   ],
   "source": [
    "print(squares)"
   ]
  },
  {
   "cell_type": "markdown",
   "metadata": {},
   "source": [
    "#### Filters\n",
    "You can also use **filters** in list comprehension, in order to select only elements that satisfy a condition:\n",
    "```python\n",
    "[function(i) for i in iter if condition]\n",
    "```\n",
    "So, if we are interested in creating a list of all *odd* squares of integers in the range 0 to 10:"
   ]
  },
  {
   "cell_type": "code",
   "execution_count": 94,
   "metadata": {
    "collapsed": false
   },
   "outputs": [
    {
     "data": {
      "text/plain": [
       "[1, 9, 25, 49, 81]"
      ]
     },
     "execution_count": 94,
     "metadata": {},
     "output_type": "execute_result"
    }
   ],
   "source": [
    "[i**2 for i in range(0,11) if (i**2)%2 != 0]"
   ]
  },
  {
   "cell_type": "markdown",
   "metadata": {},
   "source": [
    "#### Conditionals\n",
    "Conditionals are a bit more powerful than filters, as they allow us to include both an `if` and an `else` statement:\n",
    "```python\n",
    "[f(i) if cond1 elif cond2 g(i) else h(i) for i in iter]\n",
    "```\n",
    "\n",
    "---\n",
    "<div class=\"alert alert-block alert-warning\">\n",
    "**Example:** Use list comprehension to construct a list containing the tuples $\\left(x,H(x)\\right)$ for integers over the range $-5\\leq x<5$, where $H(x)$ is the Heaviside step function,\n",
    "\n",
    "$H(x)=\\begin{cases}\n",
    "0,&x<0\\\\\n",
    "1,&x\\geq 0\n",
    "\\end{cases}$\n",
    "</div>\n",
    "\n",
    "*Solution*:"
   ]
  },
  {
   "cell_type": "code",
   "execution_count": 95,
   "metadata": {
    "collapsed": false
   },
   "outputs": [
    {
     "data": {
      "text/plain": [
       "[(-5, 0),\n",
       " (-4, 0),\n",
       " (-3, 0),\n",
       " (-2, 0),\n",
       " (-1, 0),\n",
       " (0, 1),\n",
       " (1, 1),\n",
       " (2, 1),\n",
       " (3, 1),\n",
       " (4, 1),\n",
       " (5, 1)]"
      ]
     },
     "execution_count": 95,
     "metadata": {},
     "output_type": "execute_result"
    }
   ],
   "source": [
    "[(x,0) if x<0 else (x,1) for x in range(-5,6)]"
   ]
  },
  {
   "cell_type": "markdown",
   "metadata": {},
   "source": [
    "#### Nested loops\n",
    "Python also allows for nested loops in list comprehension, similar to nested for loops. For example, constructing a list using the following nested list,\n",
    "```python\n",
    "a = []\n",
    "for x in iter1:\n",
    "    for y in iter2:\n",
    "        a.append(f(x,y))\n",
    "```\n",
    "can be done using list comprehension:\n",
    "```python\n",
    "[f(x,y) for x in iter1 for y in iter2]\n",
    "```\n",
    "\n",
    "---\n",
    "<div class=\"alert alert-block alert-warning\">\n",
    "**Example:** Use list comprehension to construct a list containing the tuples $\\left(x,y\\right)$ for integers over the range $0\\leq x\\leq 4$ and $0\\leq y <x$.\n",
    "</div>\n",
    "\n",
    "*Solution*:"
   ]
  },
  {
   "cell_type": "code",
   "execution_count": 96,
   "metadata": {
    "collapsed": false
   },
   "outputs": [
    {
     "data": {
      "text/plain": [
       "[(1, 0),\n",
       " (2, 0),\n",
       " (2, 1),\n",
       " (3, 0),\n",
       " (3, 1),\n",
       " (3, 2),\n",
       " (4, 0),\n",
       " (4, 1),\n",
       " (4, 2),\n",
       " (4, 3)]"
      ]
     },
     "execution_count": 96,
     "metadata": {},
     "output_type": "execute_result"
    }
   ],
   "source": [
    "[(x,y) for x in range(0,5) for y in range(0,x)]"
   ]
  },
  {
   "cell_type": "markdown",
   "metadata": {},
   "source": [
    "#### Nested list comprehensions\n",
    "We can also nest list comprehensions, to make a nested list:\n",
    "\n",
    "---\n",
    "<div class=\"alert alert-block alert-warning\">\n",
    "**Example:** Use list comprehension to return the transpose of the nested list:\n",
    "</div>"
   ]
  },
  {
   "cell_type": "code",
   "execution_count": 97,
   "metadata": {
    "collapsed": true
   },
   "outputs": [],
   "source": [
    "a = [[1, 2, 3],\n",
    "     [4, 5, 6],\n",
    "     [7, 8, 9]]"
   ]
  },
  {
   "cell_type": "markdown",
   "metadata": {},
   "source": [
    "*Solution*:"
   ]
  },
  {
   "cell_type": "code",
   "execution_count": 98,
   "metadata": {
    "collapsed": false
   },
   "outputs": [
    {
     "data": {
      "text/plain": [
       "[[1, 4, 7], [2, 5, 8], [3, 6, 9]]"
      ]
     },
     "execution_count": 98,
     "metadata": {},
     "output_type": "execute_result"
    }
   ],
   "source": [
    "[[row[i] for row in a] for i in range(len(a))]"
   ]
  },
  {
   "cell_type": "markdown",
   "metadata": {},
   "source": [
    "### Iterable functions\n",
    "\n",
    "Python also provides some nifty intrinsic functions for modifying iterables:\n",
    "\n",
    "|Function | Description|\n",
    "|:-------:|------------|\n",
    "|`zip()` | Combines and loops through multiple iterables at once, element by element |\n",
    "|`enumerate()` | Loops through an iterables elements *and* the iterable indices|\n",
    "|`reversed()` | Iterates through an iterable in reverse order|\n",
    "\n",
    "`zip` and `enumerate` are both incredibly useful; let's go through a few quick examples.\n",
    "\n",
    "`zip` accepts as arguments multiple iterables `[a1,a2,...]`, `[b1,b2,...]`,  `[c1,c2,...]`, and returns an iterable of the form\n",
    "```\n",
    "[[a1,b1,c1,...], [a2,b2,c2,...], ... ]\n",
    "```\n",
    "\n",
    "For example, we can use zip to iterate through the following two lists simultaneously:"
   ]
  },
  {
   "cell_type": "code",
   "execution_count": 99,
   "metadata": {
    "collapsed": false
   },
   "outputs": [
    {
     "name": "stdout",
     "output_type": "stream",
     "text": [
      "-1.0 a\n",
      "-0.5 b\n",
      "0.0 c\n",
      "0.5 d\n",
      "1.0 e\n"
     ]
    }
   ],
   "source": [
    "a = [-1., -0.5, 0., 0.5, 1.]\n",
    "b = ['a', 'b', 'c', 'd', 'e']\n",
    "\n",
    "for i,j in zip(a,b):\n",
    "    print(i,j)"
   ]
  },
  {
   "cell_type": "markdown",
   "metadata": {},
   "source": [
    "We can also iterate over the list index and the element value simultaneously using `enumerate`:"
   ]
  },
  {
   "cell_type": "code",
   "execution_count": 100,
   "metadata": {
    "collapsed": false
   },
   "outputs": [
    {
     "name": "stdout",
     "output_type": "stream",
     "text": [
      "0 a\n",
      "1 b\n",
      "2 c\n",
      "3 d\n",
      "4 e\n"
     ]
    }
   ],
   "source": [
    "for idx, val in enumerate(b):\n",
    "    print(idx,val)"
   ]
  },
  {
   "cell_type": "markdown",
   "metadata": {},
   "source": [
    "## Functions\n",
    "\n",
    "We've seen some useful intrinsic Python functions, but wouldn't it be nice if we could create our own?\n",
    "\n",
    "Well, guess what! We can.\n",
    "\n",
    "Defining functions is incredibly easy in Python, and simply requires three things:\n",
    "* the `def` statement; this is how Python knows you are creating a function\n",
    "* the function name, and the arguments it will receive in brackets. For example, `my_func(a,b)`.\n",
    "* After the function name, we have a colon `:`, indicating that an indented codeblock containing the function follows.\n",
    "* Finally, the `return` statement is used to return the result of the function.\n",
    "\n",
    "Let's have a look at a quick example:"
   ]
  },
  {
   "cell_type": "code",
   "execution_count": 101,
   "metadata": {
    "collapsed": true
   },
   "outputs": [],
   "source": [
    "def my_func(a,b):\n",
    "    return a+b"
   ]
  },
  {
   "cell_type": "markdown",
   "metadata": {},
   "source": [
    "This simple function simply accepts two arguments, and adds them together. Once it has been defined (run the cell above to do this), you can call it like any other Python function:"
   ]
  },
  {
   "cell_type": "code",
   "execution_count": 102,
   "metadata": {
    "collapsed": false
   },
   "outputs": [
    {
     "data": {
      "text/plain": [
       "11"
      ]
     },
     "execution_count": 102,
     "metadata": {},
     "output_type": "execute_result"
    }
   ],
   "source": [
    "my_func(5,6)"
   ]
  },
  {
   "cell_type": "markdown",
   "metadata": {},
   "source": [
    "### Local and global scope\n",
    "When you define a new variable inside a function, it is **local** to that function - i.e. it can be seen by that function only.\n",
    "\n",
    "The function below accepts a list argument `x`, and sums its elements, by using a local variable `sumTmp` and a `for` loop. Try running the following code, and see what happens:"
   ]
  },
  {
   "cell_type": "code",
   "execution_count": 103,
   "metadata": {
    "collapsed": false
   },
   "outputs": [
    {
     "name": "stdout",
     "output_type": "stream",
     "text": [
      "5050\n"
     ]
    },
    {
     "ename": "NameError",
     "evalue": "name 'sumTmp' is not defined",
     "output_type": "error",
     "traceback": [
      "\u001b[0;31m---------------------------------------------------------------------------\u001b[0m",
      "\u001b[0;31mNameError\u001b[0m                                 Traceback (most recent call last)",
      "\u001b[0;32m<ipython-input-103-85665f7fafee>\u001b[0m in \u001b[0;36m<module>\u001b[0;34m()\u001b[0m\n\u001b[1;32m      6\u001b[0m \u001b[0;34m\u001b[0m\u001b[0m\n\u001b[1;32m      7\u001b[0m \u001b[0mprint\u001b[0m\u001b[0;34m(\u001b[0m\u001b[0msum_list\u001b[0m\u001b[0;34m(\u001b[0m\u001b[0mrange\u001b[0m\u001b[0;34m(\u001b[0m\u001b[0;36m0\u001b[0m\u001b[0;34m,\u001b[0m\u001b[0;36m101\u001b[0m\u001b[0;34m)\u001b[0m\u001b[0;34m)\u001b[0m\u001b[0;34m)\u001b[0m\u001b[0;34m\u001b[0m\u001b[0m\n\u001b[0;32m----> 8\u001b[0;31m \u001b[0mprint\u001b[0m\u001b[0;34m(\u001b[0m\u001b[0msumTmp\u001b[0m\u001b[0;34m)\u001b[0m\u001b[0;34m\u001b[0m\u001b[0m\n\u001b[0m",
      "\u001b[0;31mNameError\u001b[0m: name 'sumTmp' is not defined"
     ]
    }
   ],
   "source": [
    "def sum_list(x):\n",
    "    sumTmp = 0\n",
    "    for j in x:\n",
    "        sumTmp += j\n",
    "    return sumTmp\n",
    "\n",
    "print(sum_list(range(0,101)))\n",
    "print(sumTmp)"
   ]
  },
  {
   "cell_type": "markdown",
   "metadata": {},
   "source": [
    "However, **global** variables, defined outside of functions, can be used and accessed by functions without being passed as arguments. In the following case, `pi` is a global variable that can be accessed by the function below it, while `rad` is a local variable, accessible only inside the function."
   ]
  },
  {
   "cell_type": "code",
   "execution_count": 104,
   "metadata": {
    "collapsed": false
   },
   "outputs": [
    {
     "name": "stdout",
     "output_type": "stream",
     "text": [
      "0.5235986666666667\n",
      "3.141592\n"
     ]
    }
   ],
   "source": [
    "pi = 3.141592\n",
    "def deg_to_radian(x):\n",
    "    rad = x*pi/180\n",
    "    return rad\n",
    "\n",
    "print(deg_to_radian(30))\n",
    "print(pi)"
   ]
  },
  {
   "cell_type": "markdown",
   "metadata": {},
   "source": [
    "### Default arguments\n",
    "You can also set the default value of an argument, so that if it is not added to the function at run time, the default value is used:"
   ]
  },
  {
   "cell_type": "code",
   "execution_count": 105,
   "metadata": {
    "collapsed": false
   },
   "outputs": [
    {
     "name": "stdout",
     "output_type": "stream",
     "text": [
      "8\n",
      "4\n"
     ]
    }
   ],
   "source": [
    "def raise_to_power(x,n=2):\n",
    "    return x**n\n",
    "\n",
    "print(raise_to_power(2,3))\n",
    "print(raise_to_power(2))"
   ]
  },
  {
   "cell_type": "markdown",
   "metadata": {},
   "source": [
    "### Keyword Arguments\n",
    "We can also call a function with keyword arguments; that is, instead of having to remember the order we need to give certain arguments, we simply use the argument name to tell Python which argument we mean.\n",
    "\n",
    "With keyword arguments, the order of arguments no longer matter!"
   ]
  },
  {
   "cell_type": "code",
   "execution_count": 106,
   "metadata": {
    "collapsed": false
   },
   "outputs": [
    {
     "data": {
      "text/plain": [
       "25"
      ]
     },
     "execution_count": 106,
     "metadata": {},
     "output_type": "execute_result"
    }
   ],
   "source": [
    "raise_to_power(x=5,n=2)"
   ]
  },
  {
   "cell_type": "code",
   "execution_count": 107,
   "metadata": {
    "collapsed": false
   },
   "outputs": [
    {
     "data": {
      "text/plain": [
       "125"
      ]
     },
     "execution_count": 107,
     "metadata": {},
     "output_type": "execute_result"
    }
   ],
   "source": [
    "raise_to_power(n=3,x=5)"
   ]
  },
  {
   "cell_type": "markdown",
   "metadata": {},
   "source": [
    "### Variable number of arguments\n",
    "Sometimes, it's also useful to be able to define a function which accepts any number of arguments; we can specify by prefixing the argument with an asterisk `*`. The function will then treat the variable argument as a **tuple**.\n",
    "\n",
    "---\n",
    "<div class=\"alert alert-block alert-warning\">\n",
    "**Example:** define a function that accepts an arbitrary number of arguments, and multiplies them together.\n",
    "</div>\n",
    "*Solution:*"
   ]
  },
  {
   "cell_type": "code",
   "execution_count": 108,
   "metadata": {
    "collapsed": true
   },
   "outputs": [],
   "source": [
    "def multiply_numbers(*args):\n",
    "    result = 1\n",
    "    for i in args:\n",
    "        result *= i\n",
    "    return result"
   ]
  },
  {
   "cell_type": "code",
   "execution_count": 109,
   "metadata": {
    "collapsed": false
   },
   "outputs": [
    {
     "data": {
      "text/plain": [
       "36"
      ]
     },
     "execution_count": 109,
     "metadata": {},
     "output_type": "execute_result"
    }
   ],
   "source": [
    "multiply_numbers(2,6,3,1)"
   ]
  },
  {
   "cell_type": "markdown",
   "metadata": {},
   "source": [
    "---\n",
    "But what happens in the above example if we call the function with only one argument, or even one argument?"
   ]
  },
  {
   "cell_type": "code",
   "execution_count": 110,
   "metadata": {
    "collapsed": false
   },
   "outputs": [
    {
     "data": {
      "text/plain": [
       "1"
      ]
     },
     "execution_count": 110,
     "metadata": {},
     "output_type": "execute_result"
    }
   ],
   "source": [
    "multiply_numbers()"
   ]
  },
  {
   "cell_type": "code",
   "execution_count": 111,
   "metadata": {
    "collapsed": false
   },
   "outputs": [
    {
     "data": {
      "text/plain": [
       "2"
      ]
     },
     "execution_count": 111,
     "metadata": {},
     "output_type": "execute_result"
    }
   ],
   "source": [
    "multiply_numbers(2)"
   ]
  },
  {
   "cell_type": "markdown",
   "metadata": {},
   "source": [
    "That seems a bit useless! Let's redefine the function, so that it *must* be given a minimum of two arguments, but still allowing a variable number of arguments:"
   ]
  },
  {
   "cell_type": "code",
   "execution_count": 112,
   "metadata": {
    "collapsed": true
   },
   "outputs": [],
   "source": [
    "def multiply_numbers(x,y,*args):\n",
    "    result = x*y\n",
    "    for i in args:\n",
    "        result *= i\n",
    "    return result"
   ]
  },
  {
   "cell_type": "code",
   "execution_count": 113,
   "metadata": {
    "collapsed": false
   },
   "outputs": [
    {
     "data": {
      "text/plain": [
       "12000"
      ]
     },
     "execution_count": 113,
     "metadata": {},
     "output_type": "execute_result"
    }
   ],
   "source": [
    "multiply_numbers(2,6,100,10)"
   ]
  },
  {
   "cell_type": "markdown",
   "metadata": {},
   "source": [
    "Now see what happens if we try calling it with zero arguments:"
   ]
  },
  {
   "cell_type": "code",
   "execution_count": 114,
   "metadata": {
    "collapsed": false
   },
   "outputs": [
    {
     "ename": "TypeError",
     "evalue": "multiply_numbers() missing 2 required positional arguments: 'x' and 'y'",
     "output_type": "error",
     "traceback": [
      "\u001b[0;31m---------------------------------------------------------------------------\u001b[0m",
      "\u001b[0;31mTypeError\u001b[0m                                 Traceback (most recent call last)",
      "\u001b[0;32m<ipython-input-114-35b6e921736a>\u001b[0m in \u001b[0;36m<module>\u001b[0;34m()\u001b[0m\n\u001b[0;32m----> 1\u001b[0;31m \u001b[0mmultiply_numbers\u001b[0m\u001b[0;34m(\u001b[0m\u001b[0;34m)\u001b[0m\u001b[0;34m\u001b[0m\u001b[0m\n\u001b[0m",
      "\u001b[0;31mTypeError\u001b[0m: multiply_numbers() missing 2 required positional arguments: 'x' and 'y'"
     ]
    }
   ],
   "source": [
    "multiply_numbers()"
   ]
  },
  {
   "cell_type": "markdown",
   "metadata": {},
   "source": [
    "## NumPy\n",
    "\n",
    "So far, we haven't covered any mathematical functions or matrix operations. What happens if you want to calculate the sine of a value, or need to find the matrix vector dot product? It turns out that there is an incredibly useful module for Python called NumPy that allows us to do all these things (and more).\n",
    "\n",
    "To begin, we need to import the NumPy module. We do it like this:"
   ]
  },
  {
   "cell_type": "code",
   "execution_count": 115,
   "metadata": {
    "collapsed": true
   },
   "outputs": [],
   "source": [
    "import numpy as np"
   ]
  },
  {
   "cell_type": "markdown",
   "metadata": {},
   "source": [
    "Usually, this goes right at the beginning of your Python program or jupyter notebook, so that you can always access NumPy during your program.\n",
    "\n",
    "Two things are happening here:\n",
    "\n",
    "* We use the `import` statement to tell Python that we wish to import the NumPy module\n",
    "* We then tell Python that we want to import NumPy using the shorthand name `np`. This is just a timesaving measure, as we won't have to type out the full `numpy` every time we want to access it!\n",
    "\n",
    "A super important value provided by NumPy is $\\pi$ - this is stored in the attribute `np.pi`:"
   ]
  },
  {
   "cell_type": "code",
   "execution_count": 116,
   "metadata": {
    "collapsed": false
   },
   "outputs": [
    {
     "data": {
      "text/plain": [
       "3.141592653589793"
      ]
     },
     "execution_count": 116,
     "metadata": {},
     "output_type": "execute_result"
    }
   ],
   "source": [
    "np.pi"
   ]
  },
  {
   "cell_type": "markdown",
   "metadata": {},
   "source": [
    "### NumPy math functions\n",
    "\n",
    "NumPy provides *tonnes* of available mathematical functions, including trigonometric functions, exponential functions, logarithms, functions for working with complex numbers, etc, etc. For a full list, have a look at the [NumPy documentation](https://docs.scipy.org/doc/numpy-1.13.0/reference/routines.math.html); click on each function in the list to see how it is used. \n",
    "\n",
    "I'll go over some of the more common ones here quickly.\n",
    "\n",
    "### Common/basic functions you might need\n",
    "`np.sqrt()` - This one is pretty self explanatory!"
   ]
  },
  {
   "cell_type": "code",
   "execution_count": 117,
   "metadata": {
    "collapsed": false
   },
   "outputs": [
    {
     "data": {
      "text/plain": [
       "1.4142135623730951"
      ]
     },
     "execution_count": 117,
     "metadata": {},
     "output_type": "execute_result"
    }
   ],
   "source": [
    "np.sqrt(2)"
   ]
  },
  {
   "cell_type": "markdown",
   "metadata": {},
   "source": [
    "\n",
    "\n",
    "#### Trig and hyperbolic functions\n",
    "| |\n",
    "|-|\n",
    "|`np.sin()` | `np.cos()`| `np.tan()`| `np.arcsin()` | `np.arccos()`| `np.arctan`|\n",
    "|`np.sinh()` | `np.cosh()`| `np.tanh()`| `np.arcsinh()` | `np.arccosh()`| `np.arctanh`|\n",
    "|`np.deg2rad()` | `np.rad2deg()`|"
   ]
  },
  {
   "cell_type": "code",
   "execution_count": 118,
   "metadata": {
    "collapsed": false
   },
   "outputs": [
    {
     "data": {
      "text/plain": [
       "0.8660254037844386"
      ]
     },
     "execution_count": 118,
     "metadata": {},
     "output_type": "execute_result"
    }
   ],
   "source": [
    "np.sin(np.pi/3)"
   ]
  },
  {
   "cell_type": "markdown",
   "metadata": {},
   "source": [
    "#### Exponential and logarithms\n",
    "\n",
    "| |\n",
    "|-|\n",
    "|`np.exp()` | `np.log()`| `np.log2()`| `np.log10()` |"
   ]
  },
  {
   "cell_type": "code",
   "execution_count": 119,
   "metadata": {
    "collapsed": false
   },
   "outputs": [
    {
     "data": {
      "text/plain": [
       "14.013203607733615"
      ]
     },
     "execution_count": 119,
     "metadata": {},
     "output_type": "execute_result"
    }
   ],
   "source": [
    "np.exp(2.64)"
   ]
  },
  {
   "cell_type": "markdown",
   "metadata": {},
   "source": [
    "#### Complex numbers\n",
    "\n",
    "| |\n",
    "|-|\n",
    "|`np.angle()` | `np.real()`| `np.imag()`| `np.conj()` | `np.absolute()`| `np.real_if_close()`|"
   ]
  },
  {
   "cell_type": "code",
   "execution_count": 120,
   "metadata": {
    "collapsed": false
   },
   "outputs": [
    {
     "data": {
      "text/plain": [
       "array(2.0)"
      ]
     },
     "execution_count": 120,
     "metadata": {},
     "output_type": "execute_result"
    }
   ],
   "source": [
    "x = 1+2j\n",
    "np.imag(x)"
   ]
  },
  {
   "cell_type": "code",
   "execution_count": 121,
   "metadata": {
    "collapsed": false
   },
   "outputs": [
    {
     "name": "stdout",
     "output_type": "stream",
     "text": [
      "1.10714871779 2.2360679775\n"
     ]
    }
   ],
   "source": [
    "phi = np.angle(x)\n",
    "r = np.absolute(x)\n",
    "print(phi,r)"
   ]
  },
  {
   "cell_type": "code",
   "execution_count": 122,
   "metadata": {
    "collapsed": false
   },
   "outputs": [
    {
     "data": {
      "text/plain": [
       "(1.0000000000000002+2j)"
      ]
     },
     "execution_count": 122,
     "metadata": {},
     "output_type": "execute_result"
    }
   ],
   "source": [
    "r*np.exp(phi*1j)"
   ]
  },
  {
   "cell_type": "markdown",
   "metadata": {},
   "source": [
    "### NumPy arrays\n",
    "\n",
    "The other important part of the NumPy module is the ability to make use of a new data structure - NumPy arrays. These are different from built-in Python lists, for a couple of reasons:\n",
    "\n",
    "* NumPy arrays can only store one type of data per array; so an array must be either all integers, or all floats, or all strings, or all booleans, etc!\n",
    "    - as a result of this restriction, NumPy arrays use up a lot **less memory** on your computer compared to their equivalent Python list.\n",
    "\n",
    "\n",
    "* NumPy operations on NumPy arrays are **much faster** than using lists and loops in Python. This is because NumPy is written using Fortran, a compiled programming language. Therefore, NumPy allows you to take advantage of the speed of Fortran, from the simpler environment of Python!\n",
    "\n",
    "\n",
    "* NumPy arrays are more akin to mathematical matrices and vectors, as opposed to Python lists. In fact, they're more similar to arrays in *Mathematica* or *Matlab*. NumPy provides a tonne of matrix and vector operations and functions that you can apply to NumPy arrays.\n",
    "\n",
    "#### Defining arrays\n",
    "You can use the `np.array()` function to convert any Python list or tuple to a NumPy array:"
   ]
  },
  {
   "cell_type": "code",
   "execution_count": 123,
   "metadata": {
    "collapsed": false
   },
   "outputs": [
    {
     "name": "stdout",
     "output_type": "stream",
     "text": [
      "[4 5 7 1]\n",
      "<class 'numpy.ndarray'>\n"
     ]
    }
   ],
   "source": [
    "x = np.array([4,5,7,1])\n",
    "print(x)\n",
    "print(type(x))"
   ]
  },
  {
   "cell_type": "markdown",
   "metadata": {},
   "source": [
    "When you print out a NumPy array, it will look like a list, but it is a completely different data structure! It also comes with built-in NumPy **methods** unique to NumPy arrays. For example, to convert it into a list,"
   ]
  },
  {
   "cell_type": "code",
   "execution_count": 124,
   "metadata": {
    "collapsed": false
   },
   "outputs": [
    {
     "name": "stdout",
     "output_type": "stream",
     "text": [
      "[4, 5, 7, 1]\n",
      "<class 'list'>\n"
     ]
    }
   ],
   "source": [
    "y = x.tolist()\n",
    "print(y)\n",
    "print(type(y))"
   ]
  },
  {
   "cell_type": "markdown",
   "metadata": {},
   "source": [
    "NumPy also has built in functions for defining arbitrary lists, of specific **dimension**:\n",
    "\n",
    "\n",
    "| NumPy function| description|\n",
    "|-|-|\n",
    "|`np.zeros(shape)` | create an array of zeros|\n",
    "|`np.ones(shape)` | create an array of ones|\n",
    "|`np.identity(n)` | creates an $n\\times n$ identity matrix|\n",
    "|`np.full(shape,c)` | creates an array of constant values `c`|\n",
    "|`np.arange(start,end,step)`| similar to Python's `range()` function, but (a) returns a NumPy array, and (b) allows you to use floats instead of just integers|\n",
    "\n",
    "In all of these cases, `shape` is a tuple or list that refers to the size of each dimension of the array. For example,"
   ]
  },
  {
   "cell_type": "code",
   "execution_count": 125,
   "metadata": {
    "collapsed": false
   },
   "outputs": [
    {
     "name": "stdout",
     "output_type": "stream",
     "text": [
      "[[ 1.  1.  1.]\n",
      " [ 1.  1.  1.]\n",
      " [ 1.  1.  1.]\n",
      " [ 1.  1.  1.]\n",
      " [ 1.  1.  1.]]\n"
     ]
    }
   ],
   "source": [
    "z = np.ones([5,3])\n",
    "print(z)"
   ]
  },
  {
   "cell_type": "markdown",
   "metadata": {},
   "source": [
    "We can also return the dimension/shape of an existing NumPy array, by using the `shape` attribute:\n",
    "\n",
    "**Note: as this is an attribute and not a method or function, we don't need to provide round brackets!**"
   ]
  },
  {
   "cell_type": "code",
   "execution_count": 126,
   "metadata": {
    "collapsed": false
   },
   "outputs": [
    {
     "data": {
      "text/plain": [
       "(5, 3)"
      ]
     },
     "execution_count": 126,
     "metadata": {},
     "output_type": "execute_result"
    }
   ],
   "source": [
    "z.shape"
   ]
  },
  {
   "cell_type": "code",
   "execution_count": 127,
   "metadata": {
    "collapsed": false
   },
   "outputs": [
    {
     "data": {
      "text/plain": [
       "array([-0.7, -0.5, -0.3, -0.1,  0.1,  0.3,  0.5])"
      ]
     },
     "execution_count": 127,
     "metadata": {},
     "output_type": "execute_result"
    }
   ],
   "source": [
    "np.arange(-0.7,0.6,0.2)"
   ]
  },
  {
   "cell_type": "markdown",
   "metadata": {},
   "source": [
    "#### NumPy Indexing\n",
    "\n",
    "NumPy indexing is similar to indexing/slicing of Python lists, with one slight difference; we must specify the slice or index all array dimensions simultaneously, seperated by commas. If we don't wish to slice a particular dimension, we indicate this with a colon, `:`. This is very similar behviour to array slicing in *Mathematica*, but with Python notation.\n",
    "\n",
    "For example, play around with the following example, and see how the different slices return."
   ]
  },
  {
   "cell_type": "code",
   "execution_count": 128,
   "metadata": {
    "collapsed": false
   },
   "outputs": [
    {
     "name": "stdout",
     "output_type": "stream",
     "text": [
      "[[ 1  2  3  4]\n",
      " [ 5  6  7  8]\n",
      " [ 9 10 11 12]\n",
      " [13 14 15 16]]\n"
     ]
    }
   ],
   "source": [
    "a = np.array([[1,2,3,4],[5,6,7,8],[9,10,11,12],[13,14,15,16]])\n",
    "print(a)"
   ]
  },
  {
   "cell_type": "code",
   "execution_count": 129,
   "metadata": {
    "collapsed": false
   },
   "outputs": [
    {
     "data": {
      "text/plain": [
       "array([1, 2, 3, 4])"
      ]
     },
     "execution_count": 129,
     "metadata": {},
     "output_type": "execute_result"
    }
   ],
   "source": [
    "# Return the first row\n",
    "a[0,:]"
   ]
  },
  {
   "cell_type": "code",
   "execution_count": 130,
   "metadata": {
    "collapsed": false
   },
   "outputs": [
    {
     "data": {
      "text/plain": [
       "array([ 2,  6, 10, 14])"
      ]
     },
     "execution_count": 130,
     "metadata": {},
     "output_type": "execute_result"
    }
   ],
   "source": [
    "# Return the second column\n",
    "a[:,1]"
   ]
  },
  {
   "cell_type": "code",
   "execution_count": 131,
   "metadata": {
    "collapsed": false
   },
   "outputs": [
    {
     "data": {
      "text/plain": [
       "array([ 3,  7, 11, 15])"
      ]
     },
     "execution_count": 131,
     "metadata": {},
     "output_type": "execute_result"
    }
   ],
   "source": [
    "# Return the second last column\n",
    "a[:,-2]"
   ]
  },
  {
   "cell_type": "code",
   "execution_count": 132,
   "metadata": {
    "collapsed": false
   },
   "outputs": [
    {
     "data": {
      "text/plain": [
       "7"
      ]
     },
     "execution_count": 132,
     "metadata": {},
     "output_type": "execute_result"
    }
   ],
   "source": [
    "# Return the element in the second row, third column\n",
    "a[1,2]"
   ]
  },
  {
   "cell_type": "code",
   "execution_count": 133,
   "metadata": {
    "collapsed": false
   },
   "outputs": [
    {
     "data": {
      "text/plain": [
       "array([[ 2,  3,  4],\n",
       "       [10, 11, 12]])"
      ]
     },
     "execution_count": 133,
     "metadata": {},
     "output_type": "execute_result"
    }
   ],
   "source": [
    "# Starting with the first row, return every second row, with elements from the first to third column\n",
    "a[::2, 1:4]"
   ]
  },
  {
   "cell_type": "markdown",
   "metadata": {},
   "source": [
    "You can also edit elements using indexing:"
   ]
  },
  {
   "cell_type": "code",
   "execution_count": 134,
   "metadata": {
    "collapsed": true
   },
   "outputs": [],
   "source": [
    "# Change the element in the first row, first column to zero\n",
    "a[0,0] = 0\n",
    "\n",
    "# change the third column to [0,-1,-2,-3]\n",
    "a[:, 2] = [0, -1, -2, -3]\n",
    "\n",
    "# negate the first two elements of the fourth row\n",
    "a[-1, :2] = -a[-1, :2]"
   ]
  },
  {
   "cell_type": "code",
   "execution_count": 135,
   "metadata": {
    "collapsed": false
   },
   "outputs": [
    {
     "name": "stdout",
     "output_type": "stream",
     "text": [
      "[[  0   2   0   4]\n",
      " [  5   6  -1   8]\n",
      " [  9  10  -2  12]\n",
      " [-13 -14  -3  16]]\n"
     ]
    }
   ],
   "source": [
    "print(a)"
   ]
  },
  {
   "cell_type": "markdown",
   "metadata": {},
   "source": [
    "#### Boolean indexing\n",
    "Even more useful, we can index based on **boolean conditions**. This will only return elements from that dimension that satisfy the condition.\n",
    "\n",
    "To begin, create a condition involving the NumPy array:"
   ]
  },
  {
   "cell_type": "code",
   "execution_count": 136,
   "metadata": {
    "collapsed": false
   },
   "outputs": [
    {
     "data": {
      "text/plain": [
       "array([[False, False, False,  True],\n",
       "       [ True,  True, False,  True],\n",
       "       [ True,  True, False,  True],\n",
       "       [False, False, False,  True]], dtype=bool)"
      ]
     },
     "execution_count": 136,
     "metadata": {},
     "output_type": "execute_result"
    }
   ],
   "source": [
    "a > 3"
   ]
  },
  {
   "cell_type": "markdown",
   "metadata": {},
   "source": [
    "This is then used in indexing/slicing notation."
   ]
  },
  {
   "cell_type": "code",
   "execution_count": 137,
   "metadata": {
    "collapsed": false
   },
   "outputs": [
    {
     "data": {
      "text/plain": [
       "array([ 4,  5,  6,  8,  9, 10, 12, 16])"
      ]
     },
     "execution_count": 137,
     "metadata": {},
     "output_type": "execute_result"
    }
   ],
   "source": [
    "a[a>3] # returns all elements of a larger than 3b"
   ]
  },
  {
   "cell_type": "markdown",
   "metadata": {},
   "source": [
    "#### Array Math and operations\n",
    "\n",
    "NumPy arrays are much better suited for matrix and vector arithmetic than Python lists. Recall that, with Python lists, `+` acts as the concatenation operator, joining lists together:"
   ]
  },
  {
   "cell_type": "code",
   "execution_count": 138,
   "metadata": {
    "collapsed": false
   },
   "outputs": [
    {
     "data": {
      "text/plain": [
       "[1, 2, 3, 4, 5, 6, 7, 8]"
      ]
     },
     "execution_count": 138,
     "metadata": {},
     "output_type": "execute_result"
    }
   ],
   "source": [
    "[1,2,3,4] + [5,6,7,8]"
   ]
  },
  {
   "cell_type": "markdown",
   "metadata": {},
   "source": [
    "Using NumPy arrays, however, mathematical operations act as you would mathematically. For example,\n",
    "\n",
    "* `+` performs elementwise addition\n",
    "* `-` performs elementwise subtraction\n",
    "* `*` performs elementwise multiplication\n",
    "* `/` performs elementwise division.\n",
    "\n",
    "For example, consider the example above, but using NumPy arrays rather than lists:"
   ]
  },
  {
   "cell_type": "code",
   "execution_count": 139,
   "metadata": {
    "collapsed": false
   },
   "outputs": [
    {
     "data": {
      "text/plain": [
       "array([ 6,  8, 10, 12])"
      ]
     },
     "execution_count": 139,
     "metadata": {},
     "output_type": "execute_result"
    }
   ],
   "source": [
    "np.array([1,2,3,4]) + np.array([5,6,7,8])"
   ]
  },
  {
   "cell_type": "markdown",
   "metadata": {},
   "source": [
    "We now get behaviour that is more suited for working with mathematical vector and matrices.\n",
    "\n",
    "What happens if we perform an operation between a NumPy array and a single numeric scalar? Consider the following:"
   ]
  },
  {
   "cell_type": "code",
   "execution_count": 140,
   "metadata": {
    "collapsed": false
   },
   "outputs": [
    {
     "data": {
      "text/plain": [
       "array([[ 2,  3,  4],\n",
       "       [ 5,  6,  7],\n",
       "       [ 8,  9, 10]])"
      ]
     },
     "execution_count": 140,
     "metadata": {},
     "output_type": "execute_result"
    }
   ],
   "source": [
    "mat = np.array([[1,2,3],\n",
    "          [4,5,6],\n",
    "          [7,8,9]])\n",
    "\n",
    "mat+1"
   ]
  },
  {
   "cell_type": "code",
   "execution_count": 141,
   "metadata": {
    "collapsed": false
   },
   "outputs": [
    {
     "data": {
      "text/plain": [
       "array([[ 0.1,  0.2,  0.3],\n",
       "       [ 0.4,  0.5,  0.6],\n",
       "       [ 0.7,  0.8,  0.9]])"
      ]
     },
     "execution_count": 141,
     "metadata": {},
     "output_type": "execute_result"
    }
   ],
   "source": [
    "mat/10"
   ]
  },
  {
   "cell_type": "markdown",
   "metadata": {},
   "source": [
    "**Answer**: when adding, subtracting, multiplying, or dividing a NumPy array by an integer or a float, NumPy **broadcasts** that operation to all elements in the array.\n",
    "\n",
    "In more detail, **broadcasting** is a feature of NumPy in which, during an operation on two arrays with different sizes/dimensions, the smaller array is implicitly made larger to match the size of the larger array, by appending copies of itself to itself.\n",
    "\n",
    "This also generalises to other NumPy mathematical functions. For instance, if we wish to calculate the exponential of each element of a matrix, we can simply use the `np.exp()` function:"
   ]
  },
  {
   "cell_type": "code",
   "execution_count": 142,
   "metadata": {
    "collapsed": false
   },
   "outputs": [
    {
     "data": {
      "text/plain": [
       "array([[  2.71828183e+00,   7.38905610e+00,   2.00855369e+01],\n",
       "       [  5.45981500e+01,   1.48413159e+02,   4.03428793e+02],\n",
       "       [  1.09663316e+03,   2.98095799e+03,   8.10308393e+03]])"
      ]
     },
     "execution_count": 142,
     "metadata": {},
     "output_type": "execute_result"
    }
   ],
   "source": [
    "np.exp(mat)"
   ]
  },
  {
   "cell_type": "markdown",
   "metadata": {},
   "source": [
    "<div class=\"alert alert-block alert-info\">\n",
    "Note that this is just element-by-element exponentiation, and **not** the matrix exponential!\n",
    "$$e^{A} = \\sum_{n=0}^\\infty \\frac{1}{n!}A^n \\neq \\left[\\begin{matrix}\n",
    "e^{a_{11}} & e^{a_{12}} & \\cdots \\\\\n",
    "e^{a_{21}} & e^{a_{22}} & \\cdots\\\\\n",
    "\\vdots & \\vdots & \\ddots\\\\\n",
    "\\end{matrix}\\right]$$\n",
    "</div>\n",
    "\n",
    "To test that this is really just performing element-by-element exponentiation, we can compare the above to the result of using Python nested list comprehension to manually exponentiate each element:"
   ]
  },
  {
   "cell_type": "code",
   "execution_count": 143,
   "metadata": {
    "collapsed": false
   },
   "outputs": [
    {
     "data": {
      "text/plain": [
       "array([[ True,  True,  True],\n",
       "       [ True,  True,  True],\n",
       "       [ True,  True,  True]], dtype=bool)"
      ]
     },
     "execution_count": 143,
     "metadata": {},
     "output_type": "execute_result"
    }
   ],
   "source": [
    "np.exp(mat) == [[np.exp(j) for j in row] for row in mat]"
   ]
  },
  {
   "cell_type": "markdown",
   "metadata": {},
   "source": [
    "Note that NumPy will be default broadcast the conditional statement to each element; in order to check that *all* elements are the same, we can use the `np.all()` function:"
   ]
  },
  {
   "cell_type": "code",
   "execution_count": 144,
   "metadata": {
    "collapsed": false
   },
   "outputs": [
    {
     "data": {
      "text/plain": [
       "True"
      ]
     },
     "execution_count": 144,
     "metadata": {},
     "output_type": "execute_result"
    }
   ],
   "source": [
    "np.all(np.exp(mat) == [[np.exp(j) for j in row] for row in mat])"
   ]
  },
  {
   "cell_type": "markdown",
   "metadata": {},
   "source": [
    "<div class=\"alert alert-block alert-danger\">\n",
    "**If it's possible, always try and perform intensive arrays calculations using only NumPy functions.**\n",
    "<br>\n",
    "Using Python for loops or even loop comprehension results in Python converting the array to a list, doing the calculation much more slowly, and then converting it back into a NumPy array. You lose the massive speed advantage you get from using NumPy!\n",
    "</div>"
   ]
  },
  {
   "cell_type": "markdown",
   "metadata": {},
   "source": [
    "#### Matrix and vector operations\n",
    "\n",
    "To actually implement a Taylor series inspired definition of the matrix exponential, we would need a way to perform matrix multiplication or the dot product. This is easy in NumPy; any variable which is an instance of a NumPy array has the method `np.dot()`, which accepts as an argument the other matrix/vector to dot product with.\n",
    "\n",
    "---\n",
    "<div class=\"alert alert-block alert-warning\">\n",
    "**Example:** perform the matrix multiplication $A\\times B$ where $A=\\left[\\begin{matrix} 1&2\\\\ 4&-2\\\\\\end{matrix}\\right]$ and  $B=\\left[\\begin{matrix} 0.5&7\\\\ 0&-1\\\\\\end{matrix}\\right]$\n",
    "</div>"
   ]
  },
  {
   "cell_type": "code",
   "execution_count": 145,
   "metadata": {
    "collapsed": false
   },
   "outputs": [
    {
     "data": {
      "text/plain": [
       "array([[  0.5,   5. ],\n",
       "       [  2. ,  30. ]])"
      ]
     },
     "execution_count": 145,
     "metadata": {},
     "output_type": "execute_result"
    }
   ],
   "source": [
    "A = np.array([[1,2],[4,-2]])\n",
    "B = np.array([[0.5,7],[0,-1]])\n",
    "\n",
    "A.dot(B)"
   ]
  },
  {
   "cell_type": "markdown",
   "metadata": {},
   "source": [
    "Note that, as matrix multiplication is non-commutative, performing $B\\times A$ will give a different result:"
   ]
  },
  {
   "cell_type": "code",
   "execution_count": 146,
   "metadata": {
    "collapsed": false
   },
   "outputs": [
    {
     "data": {
      "text/plain": [
       "array([[ 28.5, -13. ],\n",
       "       [ -4. ,   2. ]])"
      ]
     },
     "execution_count": 146,
     "metadata": {},
     "output_type": "execute_result"
    }
   ],
   "source": [
    "B.dot(A)"
   ]
  },
  {
   "cell_type": "markdown",
   "metadata": {},
   "source": [
    "Alternatively, if we don't want to store A and B as variables, we can call the `np.dot()` method directly:"
   ]
  },
  {
   "cell_type": "code",
   "execution_count": 147,
   "metadata": {
    "collapsed": false
   },
   "outputs": [
    {
     "data": {
      "text/plain": [
       "array([[  0.5,   5. ],\n",
       "       [  2. ,  30. ]])"
      ]
     },
     "execution_count": 147,
     "metadata": {},
     "output_type": "execute_result"
    }
   ],
   "source": [
    "np.dot(np.array([[1,2],[4,-2]]), np.array([[0.5,7],[0,-1]]))"
   ]
  },
  {
   "cell_type": "markdown",
   "metadata": {},
   "source": [
    "---\n",
    "Using the dot product function also allows us to do matrix-vector multiplication,"
   ]
  },
  {
   "cell_type": "code",
   "execution_count": 148,
   "metadata": {
    "collapsed": false
   },
   "outputs": [
    {
     "data": {
      "text/plain": [
       "array([4, 6])"
      ]
     },
     "execution_count": 148,
     "metadata": {},
     "output_type": "execute_result"
    }
   ],
   "source": [
    "A.dot(np.array([2,1]))"
   ]
  },
  {
   "cell_type": "markdown",
   "metadata": {},
   "source": [
    "and vector dot products:"
   ]
  },
  {
   "cell_type": "code",
   "execution_count": 149,
   "metadata": {
    "collapsed": false
   },
   "outputs": [
    {
     "data": {
      "text/plain": [
       "7"
      ]
     },
     "execution_count": 149,
     "metadata": {},
     "output_type": "execute_result"
    }
   ],
   "source": [
    "v1 = np.array([3,4,7,1,2])\n",
    "v2 = np.array([-1,2,0,0,1])\n",
    "\n",
    "v1.dot(v2)"
   ]
  },
  {
   "cell_type": "markdown",
   "metadata": {},
   "source": [
    "<div class=\"alert alert-block alert-warning\">\n",
    "**Aside:** Starting from Python 3.5 and above, there is a new way to write the matrix multiplication; using the symbol `@`. If you are running Python 3.5 or a higher version, create an empty cell and type `A @ B`. You should see the same result as when you call `A.dot(B)`! \n",
    "<br>\n",
    "If instead you get a syntax error, don't worry - this means you are using an older version of Python 3.\n",
    "</div>"
   ]
  },
  {
   "cell_type": "markdown",
   "metadata": {},
   "source": [
    "Some useful NumPy array methods include:\n",
    "\n",
    "| NumPy method| description|\n",
    "|-|-|\n",
    "|`np.T` | returns the transpose of a matrix|\n",
    "|`np.dot()` | performs matrix multiplication and matrix-vector dot products|\n",
    "|`np.diagonal()` | returns the diagonal of a matrix|\n",
    "|`np.trace()` | returns the trace (sum of the diagonal elements) of a matrix|\n",
    "|`np.sum()` | sums all elements of a matrix. Also accepts the optional keyword argument `axis`, where: <br>`axis=0` sums each column <br> `axis=0` sums each row|\n",
    "\n",
    "For example:"
   ]
  },
  {
   "cell_type": "code",
   "execution_count": 150,
   "metadata": {
    "collapsed": false
   },
   "outputs": [
    {
     "data": {
      "text/plain": [
       "array([[ 1,  4],\n",
       "       [ 2, -2]])"
      ]
     },
     "execution_count": 150,
     "metadata": {},
     "output_type": "execute_result"
    }
   ],
   "source": [
    "A = np.array([[1,2],[4,-2]])\n",
    "A.T"
   ]
  },
  {
   "cell_type": "code",
   "execution_count": 151,
   "metadata": {
    "collapsed": false
   },
   "outputs": [
    {
     "data": {
      "text/plain": [
       "array([ 1, -2])"
      ]
     },
     "execution_count": 151,
     "metadata": {},
     "output_type": "execute_result"
    }
   ],
   "source": [
    "A.diagonal()"
   ]
  },
  {
   "cell_type": "code",
   "execution_count": 152,
   "metadata": {
    "collapsed": false
   },
   "outputs": [
    {
     "data": {
      "text/plain": [
       "-1"
      ]
     },
     "execution_count": 152,
     "metadata": {},
     "output_type": "execute_result"
    }
   ],
   "source": [
    "A.trace()"
   ]
  },
  {
   "cell_type": "code",
   "execution_count": 153,
   "metadata": {
    "collapsed": false
   },
   "outputs": [
    {
     "data": {
      "text/plain": [
       "5"
      ]
     },
     "execution_count": 153,
     "metadata": {},
     "output_type": "execute_result"
    }
   ],
   "source": [
    "A.sum()"
   ]
  },
  {
   "cell_type": "code",
   "execution_count": 154,
   "metadata": {
    "collapsed": false
   },
   "outputs": [
    {
     "data": {
      "text/plain": [
       "array([5, 0])"
      ]
     },
     "execution_count": 154,
     "metadata": {},
     "output_type": "execute_result"
    }
   ],
   "source": [
    "A.sum(axis=0)"
   ]
  },
  {
   "cell_type": "code",
   "execution_count": 155,
   "metadata": {
    "collapsed": false
   },
   "outputs": [
    {
     "data": {
      "text/plain": [
       "array([3, 2])"
      ]
     },
     "execution_count": 155,
     "metadata": {},
     "output_type": "execute_result"
    }
   ],
   "source": [
    "A.sum(axis=1)"
   ]
  },
  {
   "cell_type": "markdown",
   "metadata": {},
   "source": [
    "Great! However, now that the `+` operator performs element addition, how do we join or concatenate arrays? We have two functions (not methods!) available to us:\n",
    "\n",
    "* `np.concatenate([v1,v2,v3,...])` - Accepts a list of arrays, and joins them together.\n",
    "    - This is useful when wanting to combine several vectors into a single, longer vector\n",
    "* `np.vstack([A,B,C,...])` - accepts a list of arrays, and stacks them 'vertically', as 'rows' in a larger array\n",
    "* `np.hstack([A,B,C,...])` - accepts a list of arrays, and stacks them 'horizontally', as 'columns' in a larger array\n",
    "\n",
    "To see how these last two functions work, try these quick examples:"
   ]
  },
  {
   "cell_type": "code",
   "execution_count": 156,
   "metadata": {
    "collapsed": false
   },
   "outputs": [
    {
     "data": {
      "text/plain": [
       "array([ 3,  4,  7,  1,  2, -1,  2,  0,  0,  1])"
      ]
     },
     "execution_count": 156,
     "metadata": {},
     "output_type": "execute_result"
    }
   ],
   "source": [
    "v1 = np.array([3,4,7,1,2])\n",
    "v2 = np.array([-1,2,0,0,1])\n",
    "np.concatenate([v1,v2])"
   ]
  },
  {
   "cell_type": "code",
   "execution_count": 157,
   "metadata": {
    "collapsed": false
   },
   "outputs": [
    {
     "data": {
      "text/plain": [
       "array([[ 1. ,  2. ],\n",
       "       [ 4. , -2. ],\n",
       "       [ 0.5,  7. ],\n",
       "       [ 0. , -1. ]])"
      ]
     },
     "execution_count": 157,
     "metadata": {},
     "output_type": "execute_result"
    }
   ],
   "source": [
    "A = np.array([[1,2],[4,-2]])\n",
    "B = np.array([[0.5,7],[0,-1]])\n",
    "np.vstack([A,B])"
   ]
  },
  {
   "cell_type": "code",
   "execution_count": 158,
   "metadata": {
    "collapsed": false
   },
   "outputs": [
    {
     "data": {
      "text/plain": [
       "array([[ 1. ,  2. ,  0.5,  7. ],\n",
       "       [ 4. , -2. ,  0. , -1. ]])"
      ]
     },
     "execution_count": 158,
     "metadata": {},
     "output_type": "execute_result"
    }
   ],
   "source": [
    "np.hstack([A,B])"
   ]
  },
  {
   "cell_type": "markdown",
   "metadata": {},
   "source": [
    "<div class=\"alert alert-block alert-warning\">\n",
    "**Linear algebra:** Aren't we missing some common matrix operations? What if we want to calculate the inverse of a matrix, the norm of a matrix, the eigenvalues, or even the determinant?\n",
    "<br><br>\n",
    "It turns out that computationally, these linear algebra operations are quite a bit harder to do than the operations we've already seen. NumPy provides a way to do them as part of the `numpy.linalg` submodule; you can have a read of them in the NumPy documentation [here](https://docs.scipy.org/doc/numpy-1.13.0/reference/routines.linalg.html). Knowing how to use them isn't required at this point, but we might come across them later!\n",
    "</div>"
   ]
  },
  {
   "cell_type": "markdown",
   "metadata": {},
   "source": [
    "## Timing your code\n",
    "\n",
    "When doing computational and numerical physics work, it's not enough to want to calculate something with high accuracy - we also usually want to be able to implement a fast and efficient computational solution! Sometimes, even small slowdowns in otherwise fast pieces of code can result in a huge time difference when repeated over hundreds or thousands of loops.\n",
    "\n",
    "The Jupyter notebook environment provides a quick and easy way to time how long a snippet of code in a cell takes to run; this can be used to determine which computational methods lead to more efficient algorithms.\n",
    "\n",
    "Earlier, I noted that Python list operations are much slower than NumPy array operations - let's put this to the test.\n",
    "\n",
    "Let's define two functions; one that accepts a NumPy array and applies $\\sin(x)$ element-by-element:"
   ]
  },
  {
   "cell_type": "code",
   "execution_count": 159,
   "metadata": {
    "collapsed": true
   },
   "outputs": [],
   "source": [
    "def array_sine(x):\n",
    "    tmp = np.sin(x)\n",
    "    return tmp"
   ]
  },
  {
   "cell_type": "markdown",
   "metadata": {},
   "source": [
    "and one that accepts a 2D square list and uses a for loop to do the same thing:"
   ]
  },
  {
   "cell_type": "code",
   "execution_count": 160,
   "metadata": {
    "collapsed": true
   },
   "outputs": [],
   "source": [
    "def list_sine(x):\n",
    "    tmp = np.zeros(np.shape(x))\n",
    "    for i,row in enumerate(x):\n",
    "        for j,val in enumerate(row):\n",
    "            tmp[i,j] = np.sin(val)\n",
    "            \n",
    "    return tmp"
   ]
  },
  {
   "cell_type": "markdown",
   "metadata": {},
   "source": [
    "Now, let's generate a random numpy array of size $100\\times100$. We can use the `%%timeit` *magic function* on the first line of cell to time each function:"
   ]
  },
  {
   "cell_type": "code",
   "execution_count": 161,
   "metadata": {
    "collapsed": false
   },
   "outputs": [
    {
     "name": "stdout",
     "output_type": "stream",
     "text": [
      "1000 loops, best of 3: 277 µs per loop\n"
     ]
    }
   ],
   "source": [
    "%%timeit\n",
    "A = np.random.rand(100,100)\n",
    "array_sine(A)"
   ]
  },
  {
   "cell_type": "code",
   "execution_count": 162,
   "metadata": {
    "collapsed": false
   },
   "outputs": [
    {
     "name": "stdout",
     "output_type": "stream",
     "text": [
      "100 loops, best of 3: 7.39 ms per loop\n"
     ]
    }
   ],
   "source": [
    "%%timeit\n",
    "A = np.random.rand(100,100)\n",
    "list_sine(A)"
   ]
  },
  {
   "cell_type": "markdown",
   "metadata": {},
   "source": [
    "Running this on my computer, the NumPy-based function had the fastest execution at $280\\mu s$, while the Python for-loop solution took $7.5ms$ - almost 26 times slower!"
   ]
  },
  {
   "cell_type": "code",
   "execution_count": 163,
   "metadata": {
    "collapsed": false
   },
   "outputs": [
    {
     "data": {
      "text/plain": [
       "26.78571428571429"
      ]
     },
     "execution_count": 163,
     "metadata": {},
     "output_type": "execute_result"
    }
   ],
   "source": [
    "(7.5*10**(-3))/(280*10**(-6))"
   ]
  },
  {
   "cell_type": "markdown",
   "metadata": {},
   "source": [
    "Try running this yourself, and see what you get. Your times might quite different to mine, depending on the specifications of your computer, but the magnitude difference in execution time between the two cells should be approximately the same.\n",
    "\n",
    "You'll notice that the `%%timeit` magic function automatically chooses how many times to loop the code in the cell, averages the time for one loop, and then repeats this a couple of times, returning the fastest time. This is because there can be a lot of variation in time in running code, and some loops will be faster than others. Running it multiple times provides a better indication of the time taken to execute, and allows better comparison.\n",
    "\n",
    "When I ran the code above, Python automatically decided on looping the `array_sine()` cell 1000 times, dividing this by 1000 to approximate the running time of each loop. It then repeated this process 3 times, choosing the best time of the three.\n",
    "\n",
    "You can also set the number of loops and timer repetitions automatically if you wish to do so. For example, to specify 100 loops, and best time of 5:"
   ]
  },
  {
   "cell_type": "code",
   "execution_count": 164,
   "metadata": {
    "collapsed": false
   },
   "outputs": [
    {
     "name": "stdout",
     "output_type": "stream",
     "text": [
      "100 loops, best of 5: 281 µs per loop\n"
     ]
    }
   ],
   "source": [
    "%%timeit -n 100 -r 5\n",
    "A = np.random.rand(100,100)\n",
    "array_sine(A)"
   ]
  },
  {
   "cell_type": "markdown",
   "metadata": {},
   "source": [
    "## Plotting with matplotlib"
   ]
  },
  {
   "cell_type": "markdown",
   "metadata": {},
   "source": [
    "An important part of computational physics is being able to visualise your results. I'll show you a quick example of how to do this in Python using `matplotlib`, one of the more well known Python plotting libraries, but don't worry too much about knowing the ins-and-outs of matplotlib - I'll be providing plotting code when needed.\n",
    "\n",
    "To get started, we need to import the matplotlib module, and tell matplotlib that we want to see the results of the plot 'inline', i.e., right away in the Jupyter notebook."
   ]
  },
  {
   "cell_type": "code",
   "execution_count": 165,
   "metadata": {
    "collapsed": true
   },
   "outputs": [],
   "source": [
    "%matplotlib inline\n",
    "import matplotlib.pyplot as plt"
   ]
  },
  {
   "cell_type": "markdown",
   "metadata": {},
   "source": [
    "Let's now generate our data set. Let's plot $\\sin(x)$ and $e^{-0.5x}\\cos(3x)$. We can use NumPy to generate discrete values of our $x$ axis from $0\\leq x\\leq 4\\pi$, in steps of 0.1, as well as the corresponding $y$ values:"
   ]
  },
  {
   "cell_type": "code",
   "execution_count": 166,
   "metadata": {
    "collapsed": false
   },
   "outputs": [],
   "source": [
    "x = np.arange(0, 4*np.pi, 0.1)\n",
    "y1 = np.sin(x)\n",
    "y2 = np.exp(-0.2*x)*np.cos(3*x)"
   ]
  },
  {
   "cell_type": "markdown",
   "metadata": {},
   "source": [
    "To plot the results, we now pass the data to the `plt.plot()` function:"
   ]
  },
  {
   "cell_type": "code",
   "execution_count": 167,
   "metadata": {
    "collapsed": false
   },
   "outputs": [
    {
     "data": {
      "text/plain": [
       "[<matplotlib.lines.Line2D at 0x7f703efc9780>]"
      ]
     },
     "execution_count": 167,
     "metadata": {},
     "output_type": "execute_result"
    },
    {
     "data": {
      "image/png": "[encoded data removed]",
      "text/plain": [
       "<matplotlib.figure.Figure at 0x7f703efc9128>"
      ]
     },
     "metadata": {},
     "output_type": "display_data"
    }
   ],
   "source": [
    "plt.plot(x,y1)\n",
    "plt.plot(x,y2)"
   ]
  },
  {
   "cell_type": "markdown",
   "metadata": {},
   "source": [
    "Note that we called `plt.plot()` twice in the same cell to add the two different plots to the graph - everything executed in the same Jupyter cell will be added to the same graph.\n",
    "\n",
    "Matplotlib also allows us to add labels, titles, gridlines, and legends:"
   ]
  },
  {
   "cell_type": "code",
   "execution_count": 168,
   "metadata": {
    "collapsed": false,
    "scrolled": true
   },
   "outputs": [
    {
     "data": {
      "text/plain": [
       "<matplotlib.legend.Legend at 0x7f7039a91978>"
      ]
     },
     "execution_count": 168,
     "metadata": {},
     "output_type": "execute_result"
    },
    {
     "data": {
      "image/png": "[encoded data removed]",
      "text/plain": [
       "<matplotlib.figure.Figure at 0x7f7039b38240>"
      ]
     },
     "metadata": {},
     "output_type": "display_data"
    }
   ],
   "source": [
    "plt.plot(x,y1)\n",
    "plt.plot(x,y2)\n",
    "plt.xlabel('x')\n",
    "plt.ylabel('y')\n",
    "plt.title('Sine and Damped Cosine')\n",
    "plt.grid(alpha=0.3)\n",
    "plt.legend(['$\\sin(x)$', '$e^{-0.2x}\\cos(3x)$'], loc='center left', bbox_to_anchor=(1, 0.5))"
   ]
  },
  {
   "cell_type": "markdown",
   "metadata": {},
   "source": [
    "We can also change the style of the plot:"
   ]
  },
  {
   "cell_type": "code",
   "execution_count": 169,
   "metadata": {
    "collapsed": false
   },
   "outputs": [
    {
     "data": {
      "text/plain": [
       "<matplotlib.legend.Legend at 0x7f7039942a20>"
      ]
     },
     "execution_count": 169,
     "metadata": {},
     "output_type": "execute_result"
    },
    {
     "data": {
      "image/png": "[encoded data removed]",
      "text/plain": [
       "<matplotlib.figure.Figure at 0x7f70399d8860>"
      ]
     },
     "metadata": {},
     "output_type": "display_data"
    }
   ],
   "source": [
    "plt.plot(x,y1, color='orange', linestyle='-', marker='.')\n",
    "plt.plot(x,y2, color='red', linestyle='--')\n",
    "plt.xlabel('x')\n",
    "plt.ylabel('y')\n",
    "plt.title('Sine and Damped Cosine')\n",
    "plt.grid(alpha=0.3)\n",
    "plt.legend(['$\\sin(x)$', '$e^{-0.2x}\\cos(3x)$'], loc='center left', bbox_to_anchor=(1, 0.5))"
   ]
  },
  {
   "cell_type": "markdown",
   "metadata": {},
   "source": [
    "For an introductory tutorial on matplotlib plotting, see [this tutorial](https://matplotlib.org/users/pyplot_tutorial.html) in the official documentation."
   ]
  },
  {
   "cell_type": "markdown",
   "metadata": {},
   "source": [
    "## Exercises\n",
    "\n",
    "*Note: these exercises are optional!*\n",
    "\n",
    "1. Write a Python function that accepts an integer $n$ and calculates the resulting factorial $n!$.\n",
    "<br><br>\n",
    "2. (a) Write a Python function `expTaylor(x,k)` that accepts a float $x$ and an integer $k$, and uses a truncated Taylor series of $k$ summations to approximate the exponential:\n",
    "   \n",
    "  $$ e^{x}\\approx \\sum_{n=0}^k \\frac{1}{n!}x^n$$\n",
    "   \n",
    "  (b) Create a 2D array that stores the value of $k$, from $0\\leq k\\leq 20$ in the first dimension, and the equivalent value of `expTaylor(5,k)` in the second dimension. Use matplotlib to visualise the convergence of your custom exponential function. How does it behave as $k$ increases?\n",
    "  \n",
    "  (c) Compare each value of `expTaylor(5,k)` to the result given by `np.exp(5)`. This is the *numerical error*: <br><br>`error(5,k) = expTaylor(5,k) - np.exp(5)`<br><br>\n",
    "  Plot $k$ vs. `error(5,k)` using matplotlib. How does the error difference change as $k$ increases? You can try plotting the error vs. `k` and describe what you see.\n",
    "  \n",
    "  (d) Repeat part (b) for the case $x=-5$. What do you notice about the convergence of your numerical solution? And how might you go about fixing this? *Hint: $e^{-x} = 1/e^{x}$*"
   ]
  }
 ],
 "metadata": {
  "celltoolbar": "Raw Cell Format",
  "kernelspec": {
   "display_name": "Python 3",
   "language": "python",
   "name": "python3"
  },
  "language_info": {
   "codemirror_mode": {
    "name": "ipython",
    "version": 3
   },
   "file_extension": ".py",
   "mimetype": "text/x-python",
   "name": "python",
   "nbconvert_exporter": "python",
   "pygments_lexer": "ipython3",
   "version": "3.4.3"
  },
  "toc": {
   "nav_menu": {
    "height": "200px",
    "width": "319px"
   },
   "number_sections": true,
   "sideBar": true,
   "skip_h1_title": false,
   "toc_cell": true,
   "toc_position": {},
   "toc_section_display": "block",
   "toc_window_display": false
  }
 },
 "nbformat": 4,
 "nbformat_minor": 2
}
